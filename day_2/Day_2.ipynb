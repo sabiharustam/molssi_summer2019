{
 "cells": [
  {
   "cell_type": "markdown",
   "metadata": {},
   "source": [
    "# QCArchive Demo\n",
    "## MolSSI Software Summer School -Day 2\n",
    "\n",
    "### This is a database that uses qc portal"
   ]
  },
  {
   "cell_type": "code",
   "execution_count": 18,
   "metadata": {},
   "outputs": [],
   "source": [
    "import qcportal as ptl\n",
    "import numpy as np\n",
    "\n",
    "client = ptl.FractalClient()"
   ]
  },
  {
   "cell_type": "code",
   "execution_count": 2,
   "metadata": {},
   "outputs": [
    {
     "data": {
      "text/html": [
       "\n",
       "<h3>FractalClient</h3>\n",
       "<ul>\n",
       "  <li><b>Server:   &nbsp; </b>The MolSSI QCArchive Server</li>\n",
       "  <li><b>Address:  &nbsp; </b>https://api.qcarchive.molssi.org:443/</li>\n",
       "  <li><b>Username: &nbsp; </b>None</li>\n",
       "</ul>\n"
      ],
      "text/plain": [
       "FractalClient(server_name='The MolSSI QCArchive Server', address='https://api.qcarchive.molssi.org:443/', username='None')"
      ]
     },
     "execution_count": 2,
     "metadata": {},
     "output_type": "execute_result"
    }
   ],
   "source": [
    "client"
   ]
  },
  {
   "cell_type": "code",
   "execution_count": 3,
   "metadata": {},
   "outputs": [],
   "source": [
    "# The way it returns are the list of molecules. \n",
    "butane = client.query_molecules(id=['61139', '70659'])"
   ]
  },
  {
   "cell_type": "code",
   "execution_count": 6,
   "metadata": {},
   "outputs": [
    {
     "data": {
      "text/plain": [
       "[<Molecule(name='C4H10' formula='C4H10' hash='3bbc6db')>,\n",
       " <Molecule(name='C4H10' formula='C4H10' hash='bb665a3')>]"
      ]
     },
     "execution_count": 6,
     "metadata": {},
     "output_type": "execute_result"
    }
   ],
   "source": [
    "butane"
   ]
  },
  {
   "cell_type": "code",
   "execution_count": 7,
   "metadata": {},
   "outputs": [
    {
     "data": {
      "application/3dmoljs_load.v0": "<div id=\"3dmolviewer_1563891402326586\"  style=\"position: relative; width: 400px; height: 400px\">\n        <p id=\"3dmolwarning_1563891402326586\" style=\"background-color:#ffcccc;color:black\">You appear to be running in JupyterLab (or JavaScript failed to load for some other reason).  You need to install the 3dmol extension: <br>\n        <tt>jupyter labextension install jupyterlab_3dmol</tt></p>\n        </div>\n<script>\n\nvar loadScriptAsync = function(uri){\n  return new Promise((resolve, reject) => {\n    var tag = document.createElement('script');\n    tag.src = uri;\n    tag.async = true;\n    tag.onload = () => {\n      resolve();\n    };\n  var firstScriptTag = document.getElementsByTagName('script')[0];\n  firstScriptTag.parentNode.insertBefore(tag, firstScriptTag);\n});\n};\n\nif(typeof $3Dmolpromise === 'undefined') {\n$3Dmolpromise = null;\n  $3Dmolpromise = loadScriptAsync('https://3dmol.csb.pitt.edu/build/3Dmol.js');\n}\n\nvar viewer_1563891402326586 = null;\nvar warn = document.getElementById(\"3dmolwarning_1563891402326586\");\nif(warn) {\n    warn.parentNode.removeChild(warn);\n}\n$3Dmolpromise.then(function() {\nviewer_1563891402326586 = $3Dmol.createViewer($(\"#3dmolviewer_1563891402326586\"),{backgroundColor:\"white\"});\n\tviewer_1563891402326586.addModel(\"14\\nC4H10\\nC                     0.319142817510    -1.093637470615    -1.564414747816\\nC                    -0.290915848913     1.096758367299     1.567781812448\\nC                     0.092836854842    -0.751249438146    -0.100522397103\\nC                    -0.092794060281     0.751359940931     0.100493429943\\nH                    -0.519879641163    -0.755167725511    -2.180879601800\\nH                     1.228258374974    -0.606784705229    -1.931321629538\\nH                     0.433231534967    -2.173772344395    -1.701604611738\\nH                     0.566770197846     0.756780387768     2.156554230319\\nH                    -1.189142468703     0.614634340052     1.966519364863\\nH                    -0.390704303684     2.178094155841     1.706284173437\\nH                     0.948659303509    -1.102785828023     0.487454535126\\nH                    -0.791724567833    -1.287994152809     0.261736276668\\nH                    -0.960730259026     1.099387769483    -0.471363219252\\nH                     0.783367161017     1.289109832998    -0.280421285847\\n\",\"xyz\");\n\tviewer_1563891402326586.setStyle({\"stick\": {\"radius\": 0.2}, \"sphere\": {\"scale\": 0.3}});\n\tviewer_1563891402326586.zoomTo();\nviewer_1563891402326586.render();\n});\n</script>",
      "text/html": [
       "<div id=\"3dmolviewer_1563891402326586\"  style=\"position: relative; width: 400px; height: 400px\">\n",
       "        <p id=\"3dmolwarning_1563891402326586\" style=\"background-color:#ffcccc;color:black\">You appear to be running in JupyterLab (or JavaScript failed to load for some other reason).  You need to install the 3dmol extension: <br>\n",
       "        <tt>jupyter labextension install jupyterlab_3dmol</tt></p>\n",
       "        </div>\n",
       "<script>\n",
       "\n",
       "var loadScriptAsync = function(uri){\n",
       "  return new Promise((resolve, reject) => {\n",
       "    var tag = document.createElement('script');\n",
       "    tag.src = uri;\n",
       "    tag.async = true;\n",
       "    tag.onload = () => {\n",
       "      resolve();\n",
       "    };\n",
       "  var firstScriptTag = document.getElementsByTagName('script')[0];\n",
       "  firstScriptTag.parentNode.insertBefore(tag, firstScriptTag);\n",
       "});\n",
       "};\n",
       "\n",
       "if(typeof $3Dmolpromise === 'undefined') {\n",
       "$3Dmolpromise = null;\n",
       "  $3Dmolpromise = loadScriptAsync('https://3dmol.csb.pitt.edu/build/3Dmol.js');\n",
       "}\n",
       "\n",
       "var viewer_1563891402326586 = null;\n",
       "var warn = document.getElementById(\"3dmolwarning_1563891402326586\");\n",
       "if(warn) {\n",
       "    warn.parentNode.removeChild(warn);\n",
       "}\n",
       "$3Dmolpromise.then(function() {\n",
       "viewer_1563891402326586 = $3Dmol.createViewer($(\"#3dmolviewer_1563891402326586\"),{backgroundColor:\"white\"});\n",
       "\tviewer_1563891402326586.addModel(\"14\\nC4H10\\nC                     0.319142817510    -1.093637470615    -1.564414747816\\nC                    -0.290915848913     1.096758367299     1.567781812448\\nC                     0.092836854842    -0.751249438146    -0.100522397103\\nC                    -0.092794060281     0.751359940931     0.100493429943\\nH                    -0.519879641163    -0.755167725511    -2.180879601800\\nH                     1.228258374974    -0.606784705229    -1.931321629538\\nH                     0.433231534967    -2.173772344395    -1.701604611738\\nH                     0.566770197846     0.756780387768     2.156554230319\\nH                    -1.189142468703     0.614634340052     1.966519364863\\nH                    -0.390704303684     2.178094155841     1.706284173437\\nH                     0.948659303509    -1.102785828023     0.487454535126\\nH                    -0.791724567833    -1.287994152809     0.261736276668\\nH                    -0.960730259026     1.099387769483    -0.471363219252\\nH                     0.783367161017     1.289109832998    -0.280421285847\\n\",\"xyz\");\n",
       "\tviewer_1563891402326586.setStyle({\"stick\": {\"radius\": 0.2}, \"sphere\": {\"scale\": 0.3}});\n",
       "\tviewer_1563891402326586.zoomTo();\n",
       "viewer_1563891402326586.render();\n",
       "});\n",
       "</script>"
      ]
     },
     "metadata": {},
     "output_type": "display_data"
    },
    {
     "data": {
      "text/plain": [
       "<py3Dmol.view at 0x11a0cfac8>"
      ]
     },
     "execution_count": 7,
     "metadata": {},
     "output_type": "execute_result"
    }
   ],
   "source": [
    "butane[0].show()"
   ]
  },
  {
   "cell_type": "code",
   "execution_count": 17,
   "metadata": {},
   "outputs": [
    {
     "data": {
      "application/3dmoljs_load.v0": "<div id=\"3dmolviewer_15638922327771652\"  style=\"position: relative; width: 400px; height: 400px\">\n        <p id=\"3dmolwarning_15638922327771652\" style=\"background-color:#ffcccc;color:black\">You appear to be running in JupyterLab (or JavaScript failed to load for some other reason).  You need to install the 3dmol extension: <br>\n        <tt>jupyter labextension install jupyterlab_3dmol</tt></p>\n        </div>\n<script>\n\nvar loadScriptAsync = function(uri){\n  return new Promise((resolve, reject) => {\n    var tag = document.createElement('script');\n    tag.src = uri;\n    tag.async = true;\n    tag.onload = () => {\n      resolve();\n    };\n  var firstScriptTag = document.getElementsByTagName('script')[0];\n  firstScriptTag.parentNode.insertBefore(tag, firstScriptTag);\n});\n};\n\nif(typeof $3Dmolpromise === 'undefined') {\n$3Dmolpromise = null;\n  $3Dmolpromise = loadScriptAsync('https://3dmol.csb.pitt.edu/build/3Dmol.js');\n}\n\nvar viewer_15638922327771652 = null;\nvar warn = document.getElementById(\"3dmolwarning_15638922327771652\");\nif(warn) {\n    warn.parentNode.removeChild(warn);\n}\n$3Dmolpromise.then(function() {\nviewer_15638922327771652 = $3Dmol.createViewer($(\"#3dmolviewer_15638922327771652\"),{backgroundColor:\"white\"});\n\tviewer_15638922327771652.addModel(\"14\\nC4H10\\nC                    -0.367198611826    -1.239066459661    -0.895096896430\\nC                    -0.805813620019     1.122919020599     0.749193187800\\nC                     0.884999946537    -0.552975918533    -0.342565957722\\nC                     0.651313993821     0.705495331858     0.533442172609\\nH                    -1.015245486716    -1.597844274534    -0.068455110112\\nH                    -0.934555683074    -0.548936751218    -1.553770205346\\nH                    -0.065145201911    -2.119653004760    -1.500550906186\\nH                    -1.371403922022     0.320442026938     1.267036676767\\nH                    -1.290856239503     1.369335458265    -0.218296082402\\nH                    -0.835804383885     2.030484305799     1.388465658940\\nH                     1.531851627070    -0.275261564622    -1.203346997941\\nH                     1.452835145270    -1.302370505887     0.251115044454\\nH                     1.190135739619     1.564630144108     0.077322987724\\nH                     1.111261775825     0.537535321291     1.531802741680\\n\",\"xyz\");\n\tviewer_15638922327771652.setStyle({\"stick\": {\"radius\": 0.2}, \"sphere\": {\"scale\": 0.3}});\n\tviewer_15638922327771652.zoomTo();\nviewer_15638922327771652.render();\n});\n</script>",
      "text/html": [
       "<div id=\"3dmolviewer_15638922327771652\"  style=\"position: relative; width: 400px; height: 400px\">\n",
       "        <p id=\"3dmolwarning_15638922327771652\" style=\"background-color:#ffcccc;color:black\">You appear to be running in JupyterLab (or JavaScript failed to load for some other reason).  You need to install the 3dmol extension: <br>\n",
       "        <tt>jupyter labextension install jupyterlab_3dmol</tt></p>\n",
       "        </div>\n",
       "<script>\n",
       "\n",
       "var loadScriptAsync = function(uri){\n",
       "  return new Promise((resolve, reject) => {\n",
       "    var tag = document.createElement('script');\n",
       "    tag.src = uri;\n",
       "    tag.async = true;\n",
       "    tag.onload = () => {\n",
       "      resolve();\n",
       "    };\n",
       "  var firstScriptTag = document.getElementsByTagName('script')[0];\n",
       "  firstScriptTag.parentNode.insertBefore(tag, firstScriptTag);\n",
       "});\n",
       "};\n",
       "\n",
       "if(typeof $3Dmolpromise === 'undefined') {\n",
       "$3Dmolpromise = null;\n",
       "  $3Dmolpromise = loadScriptAsync('https://3dmol.csb.pitt.edu/build/3Dmol.js');\n",
       "}\n",
       "\n",
       "var viewer_15638922327771652 = null;\n",
       "var warn = document.getElementById(\"3dmolwarning_15638922327771652\");\n",
       "if(warn) {\n",
       "    warn.parentNode.removeChild(warn);\n",
       "}\n",
       "$3Dmolpromise.then(function() {\n",
       "viewer_15638922327771652 = $3Dmol.createViewer($(\"#3dmolviewer_15638922327771652\"),{backgroundColor:\"white\"});\n",
       "\tviewer_15638922327771652.addModel(\"14\\nC4H10\\nC                    -0.367198611826    -1.239066459661    -0.895096896430\\nC                    -0.805813620019     1.122919020599     0.749193187800\\nC                     0.884999946537    -0.552975918533    -0.342565957722\\nC                     0.651313993821     0.705495331858     0.533442172609\\nH                    -1.015245486716    -1.597844274534    -0.068455110112\\nH                    -0.934555683074    -0.548936751218    -1.553770205346\\nH                    -0.065145201911    -2.119653004760    -1.500550906186\\nH                    -1.371403922022     0.320442026938     1.267036676767\\nH                    -1.290856239503     1.369335458265    -0.218296082402\\nH                    -0.835804383885     2.030484305799     1.388465658940\\nH                     1.531851627070    -0.275261564622    -1.203346997941\\nH                     1.452835145270    -1.302370505887     0.251115044454\\nH                     1.190135739619     1.564630144108     0.077322987724\\nH                     1.111261775825     0.537535321291     1.531802741680\\n\",\"xyz\");\n",
       "\tviewer_15638922327771652.setStyle({\"stick\": {\"radius\": 0.2}, \"sphere\": {\"scale\": 0.3}});\n",
       "\tviewer_15638922327771652.zoomTo();\n",
       "viewer_15638922327771652.render();\n",
       "});\n",
       "</script>"
      ]
     },
     "metadata": {},
     "output_type": "display_data"
    },
    {
     "data": {
      "text/plain": [
       "<Molecule(name='C4H10' formula='C4H10' hash='bb665a3')>"
      ]
     },
     "execution_count": 17,
     "metadata": {},
     "output_type": "execute_result"
    }
   ],
   "source": [
    "butane[1]"
   ]
  },
  {
   "cell_type": "code",
   "execution_count": 10,
   "metadata": {},
   "outputs": [
    {
     "data": {
      "text/plain": [
       "(<Molecule(name='C4H10' formula='C4H10' hash='31576b8')>,\n",
       " {'rmsd': 2.9814323718372964, 'mill': <----------------------------------------\n",
       "               AlignmentMill              \n",
       "  ----------------------------------------\n",
       "  Mirror:   False\n",
       "  Atom Map: [12 13  1  9 11  8  5  0  2  7  6  4  3 10]\n",
       "  Shift:    [ 0.1362740926126129 -0.7083064058643216  2.2780175845756725]\n",
       "  Rotation:\n",
       "  [[ 0.0291279132022616  0.943348117774383   0.3305236653615146]\n",
       "   [-0.6314893722773642  0.2736861619970226 -0.7254771239895024]\n",
       "   [-0.7748372328258508 -0.1875905472641639  0.6036862175036875]]\n",
       "  ---------------------------------------->})"
      ]
     },
     "execution_count": 10,
     "metadata": {},
     "output_type": "execute_result"
    }
   ],
   "source": [
    "butane[0].scramble()"
   ]
  },
  {
   "cell_type": "code",
   "execution_count": 15,
   "metadata": {},
   "outputs": [
    {
     "name": "stdout",
     "output_type": "stream",
     "text": [
      "Help on method scramble in module qcelemental.models.molecule:\n",
      "\n",
      "scramble(*, do_shift: bool = True, do_rotate=True, do_resort=True, deflection=1.0, do_mirror=False, do_plot=False, do_test=False, run_to_completion=False, run_resorting=False, verbose=0) method of qcelemental.models.molecule.Molecule instance\n",
      "    Generate a Molecule with random or directed translation, rotation, and atom shuffling.\n",
      "    Optionally, check that the aligner returns the opposite transformation.\n",
      "    \n",
      "    Parameters\n",
      "    ----------\n",
      "    ref_mol : qcel.models.Molecule\n",
      "        Molecule to perturb.\n",
      "    do_shift : bool or array-like, optional\n",
      "        Whether to generate a random atom shift on interval [-3, 3) in each\n",
      "        dimension (`True`) or leave at current origin. To shift by a specified\n",
      "        vector, supply a 3-element list.\n",
      "    do_rotate : bool or array-like, optional\n",
      "        Whether to generate a random 3D rotation according to algorithm of Arvo.\n",
      "        To rotate by a specified matrix, supply a 9-element list of lists.\n",
      "    do_resort : bool or array-like, optional\n",
      "        Whether to shuffle atoms (`True`) or leave 1st atom 1st, etc. (`False`).\n",
      "        To specify shuffle, supply a nat-element list of indices.\n",
      "    deflection : float, optional\n",
      "        If `do_rotate`, how random a rotation: 0.0 is no change, 0.1 is small\n",
      "        perturbation, 1.0 is completely random.\n",
      "    do_mirror : bool, optional\n",
      "        Whether to construct the mirror image structure by inverting y-axis.\n",
      "    do_plot : bool, optional\n",
      "        Pops up a mpl plot showing before, after, and ref geometries.\n",
      "    do_test : bool, optional\n",
      "        Additionally, run the aligner on the returned Molecule and check that\n",
      "        opposite transformations obtained.\n",
      "    run_to_completion : bool, optional\n",
      "        By construction, scrambled systems are fully alignable (final RMSD=0).\n",
      "        Even so, `True` turns off the mechanism to stop when RMSD reaches zero\n",
      "        and instead proceed to worst possible time.\n",
      "    run_resorting : bool, optional\n",
      "        Even if atoms not shuffled, test the resorting machinery.\n",
      "    verbose : int, optional\n",
      "        Print level.\n",
      "    \n",
      "    Returns\n",
      "    -------\n",
      "    Molecule, data\n",
      "        Molecule is scrambled copy of `ref_mol` (self).\n",
      "        `data['rmsd']` is RMSD [A] between `ref_mol` and the scrambled geometry.\n",
      "        `data['mill']` is a AlignmentMill namedtuple with fields\n",
      "        (shift, rotation, atommap, mirror) that prescribe the transformation\n",
      "        from `ref_mol` to the returned geometry.\n",
      "    \n",
      "    Raises\n",
      "    ------\n",
      "    AssertionError\n",
      "        If `do_test=True` and aligner sanity check fails for any of the reverse\n",
      "        transformations.\n",
      "\n"
     ]
    }
   ],
   "source": [
    "help(butane[0].scramble)"
   ]
  },
  {
   "cell_type": "code",
   "execution_count": 11,
   "metadata": {},
   "outputs": [
    {
     "data": {
      "text/plain": [
       "array([[ 0.60309252, -2.0666753 , -2.95631542],\n",
       "       [-0.54975128,  2.07257294,  2.96267825],\n",
       "       [ 0.17543623, -1.41965569, -0.1899598 ],\n",
       "       [-0.17535536,  1.41986451,  0.18990506],\n",
       "       [-0.98243014, -1.42706018, -4.12126516],\n",
       "       [ 2.32107194, -1.14665691, -3.64966894],\n",
       "       [ 0.81868895, -4.10783439, -3.21556669],\n",
       "       [ 1.07104045,  1.43010767,  4.07529687],\n",
       "       [-2.24715359,  1.16149057,  3.71618302],\n",
       "       [-0.73832413,  4.11600143,  3.22440978],\n",
       "       [ 1.79270627, -2.08396319,  0.92115557],\n",
       "       [-1.4961426 , -2.4339562 ,  0.49460988],\n",
       "       [-1.81551707,  2.07754179, -0.89074739],\n",
       "       [ 1.48034939,  2.43606453, -0.52991943]])"
      ]
     },
     "execution_count": 11,
     "metadata": {},
     "output_type": "execute_result"
    }
   ],
   "source": [
    "butane[0].geometry"
   ]
  },
  {
   "cell_type": "code",
   "execution_count": 12,
   "metadata": {},
   "outputs": [
    {
     "data": {
      "text/plain": [
       "['C', 'C', 'C', 'C', 'H', 'H', 'H', 'H', 'H', 'H', 'H', 'H', 'H', 'H']"
      ]
     },
     "execution_count": 12,
     "metadata": {},
     "output_type": "execute_result"
    }
   ],
   "source": [
    "butane[0].symbols"
   ]
  },
  {
   "cell_type": "code",
   "execution_count": 13,
   "metadata": {},
   "outputs": [],
   "source": [
    "butane_geometries = [butane[0].geometry.copy(), butane[1].geometry.copy()]"
   ]
  },
  {
   "cell_type": "code",
   "execution_count": 22,
   "metadata": {},
   "outputs": [],
   "source": [
    "def calculate_distance(rA, rB):\n",
    "    \"\"\"Calculate the distance between points A and B\"\"\"\n",
    "    dist_vec = (rA - rB)\n",
    "    distance = np.linalg.norm(dist_vec)\n",
    "    return distance\n",
    "\n",
    "def build_bond_list(coordinates, max_bond=1.55, min_bond=0):\n",
    "    \"\"\"\n",
    "    This function takes min and max bond distances and \n",
    "    \"\"\"\n",
    "    num_atoms = len(coordinates)\n",
    "    \n",
    "    bonds = {}\n",
    "    \n",
    "    for atom1 in range(num_atoms):\n",
    "        for atom2 in range(atom1, num_atoms):\n",
    "            distance = calculate_distance(coordinates[atom1], coordinates[atom2])\n",
    "            \n",
    "            if distance > min_bond and distance < max_bond:\n",
    "                bonds[(atom1, atom2)] = distance\n",
    "    \n",
    "    return bonds"
   ]
  },
  {
   "cell_type": "code",
   "execution_count": 31,
   "metadata": {},
   "outputs": [
    {
     "name": "stdout",
     "output_type": "stream",
     "text": [
      "7.314158248564329\n",
      "7.31415824856433\n"
     ]
    }
   ],
   "source": [
    "atom1 = butane_geometries[0][0]\n",
    "atom2 = butane_geometries[0][1]\n",
    "measured_distance = calculate_distance(atom1, atom2)\n",
    "print(measured_distance)\n",
    "\n",
    "print(butane[0].measure([0,1]))"
   ]
  },
  {
   "cell_type": "code",
   "execution_count": 33,
   "metadata": {},
   "outputs": [
    {
     "name": "stdout",
     "output_type": "stream",
     "text": [
      "6.71634950813261\n",
      "6.71634950813261\n"
     ]
    }
   ],
   "source": [
    "atom3 = butane_geometries[1][2]\n",
    "atom10 = butane_geometries[1][9]\n",
    "\n",
    "measured_distance2 = calculate_distance(atom3, atom10)\n",
    "print(measured_distance2)\n",
    "\n",
    "print(butane[1].measure([2,9]))"
   ]
  },
  {
   "cell_type": "code",
   "execution_count": 23,
   "metadata": {},
   "outputs": [
    {
     "name": "stdout",
     "output_type": "stream",
     "text": [
      "{}\n"
     ]
    }
   ],
   "source": [
    "# This didn't work cause qc elemental uses bohr as units for bond length. and we put 1.55 as angstroms. \n",
    "bond_list = build_bond_list(butane_geometries[0])\n",
    "print(bond_list)"
   ]
  },
  {
   "cell_type": "code",
   "execution_count": 27,
   "metadata": {},
   "outputs": [
    {
     "data": {
      "text/plain": [
       "[(0, 2, 1.0),\n",
       " (0, 4, 1.0),\n",
       " (0, 5, 1.0),\n",
       " (0, 6, 1.0),\n",
       " (1, 3, 1.0),\n",
       " (1, 7, 1.0),\n",
       " (1, 8, 1.0),\n",
       " (1, 9, 1.0),\n",
       " (2, 3, 1.0),\n",
       " (2, 10, 1.0),\n",
       " (2, 11, 1.0),\n",
       " (3, 12, 1.0),\n",
       " (3, 13, 1.0)]"
      ]
     },
     "execution_count": 27,
     "metadata": {},
     "output_type": "execute_result"
    }
   ],
   "source": [
    "butane[0].connectivity"
   ]
  },
  {
   "cell_type": "code",
   "execution_count": 35,
   "metadata": {},
   "outputs": [
    {
     "data": {
      "text/plain": [
       "1.8897261254578281"
      ]
     },
     "execution_count": 35,
     "metadata": {},
     "output_type": "execute_result"
    }
   ],
   "source": [
    "import qcelemental\n",
    "\n",
    "angstrom_to_bohr = qcelemental.constants.conversion_factor(\"angstrom\",\"bohr\")\n",
    "angstrom_to_bohr"
   ]
  },
  {
   "cell_type": "code",
   "execution_count": 36,
   "metadata": {},
   "outputs": [
    {
     "data": {
      "text/plain": [
       "2.9290754944596338"
      ]
     },
     "execution_count": 36,
     "metadata": {},
     "output_type": "execute_result"
    }
   ],
   "source": [
    "1.55*1.8897261254578281"
   ]
  },
  {
   "cell_type": "code",
   "execution_count": 37,
   "metadata": {},
   "outputs": [
    {
     "data": {
      "text/plain": [
       "{(0, 2): 2.873020656801253,\n",
       " (0, 4): 2.068839651551603,\n",
       " (0, 5): 2.068484041315794,\n",
       " (0, 6): 2.068821759435787,\n",
       " (1, 3): 2.873059651780396,\n",
       " (1, 7): 2.068247482474781,\n",
       " (1, 8): 2.0685780442929644,\n",
       " (1, 9): 2.0687346633381822,\n",
       " (2, 3): 2.8862132661474598,\n",
       " (2, 10): 2.0715801221019885,\n",
       " (2, 11): 2.0716218178677623,\n",
       " (3, 12): 2.0713472807014583,\n",
       " (3, 13): 2.071754810836534}"
      ]
     },
     "execution_count": 37,
     "metadata": {},
     "output_type": "execute_result"
    }
   ],
   "source": [
    "bond_list = build_bond_list(butane_geometries[0], max_bond=2.93)\n",
    "bond_list"
   ]
  },
  {
   "cell_type": "code",
   "execution_count": 38,
   "metadata": {},
   "outputs": [
    {
     "data": {
      "text/plain": [
       "[(0, 2, 1.0),\n",
       " (0, 4, 1.0),\n",
       " (0, 5, 1.0),\n",
       " (0, 6, 1.0),\n",
       " (1, 3, 1.0),\n",
       " (1, 7, 1.0),\n",
       " (1, 8, 1.0),\n",
       " (1, 9, 1.0),\n",
       " (2, 3, 1.0),\n",
       " (2, 10, 1.0),\n",
       " (2, 11, 1.0),\n",
       " (3, 12, 1.0),\n",
       " (3, 13, 1.0)]"
      ]
     },
     "execution_count": 38,
     "metadata": {},
     "output_type": "execute_result"
    }
   ],
   "source": [
    "butane[0].connectivity"
   ]
  },
  {
   "cell_type": "code",
   "execution_count": null,
   "metadata": {},
   "outputs": [],
   "source": [
    "def build_angle_list(coordinates, max_bond=1.55, min_bond=0):\n",
    "    \"\"\"\n",
    "    This function takes min and max bond distances and \n",
    "    \"\"\"\n",
    "    num_atoms = len(coordinates)\n",
    "    \n",
    "    bonds = {}\n",
    "    \n",
    "    for atom1 in range(num_atoms):\n",
    "        for atom2 in range(atom1, num_atoms):\n",
    "            distance = calculate_distance(coordinates[atom1], coordinates[atom2])\n",
    "            \n",
    "            if distance > min_bond and distance < max_bond:\n",
    "                bonds[(atom1, atom2)] = distance\n",
    "    \n",
    "    return bonds"
   ]
  },
  {
   "cell_type": "code",
   "execution_count": 43,
   "metadata": {},
   "outputs": [],
   "source": [
    "# use qcportal to access geometry optimization calculation\n",
    "# use query_procedures\n",
    "# id = 2658710\n",
    "\n",
    "geo_opt = client.query_procedures(id=2658710)"
   ]
  },
  {
   "cell_type": "code",
   "execution_count": 46,
   "metadata": {},
   "outputs": [
    {
     "data": {
      "application/3dmoljs_load.v0": "<div id=\"3dmolviewer_15638944740393531\"  style=\"position: relative; width: 400px; height: 400px\">\n        <p id=\"3dmolwarning_15638944740393531\" style=\"background-color:#ffcccc;color:black\">You appear to be running in JupyterLab (or JavaScript failed to load for some other reason).  You need to install the 3dmol extension: <br>\n        <tt>jupyter labextension install jupyterlab_3dmol</tt></p>\n        </div>\n<script>\n\nvar loadScriptAsync = function(uri){\n  return new Promise((resolve, reject) => {\n    var tag = document.createElement('script');\n    tag.src = uri;\n    tag.async = true;\n    tag.onload = () => {\n      resolve();\n    };\n  var firstScriptTag = document.getElementsByTagName('script')[0];\n  firstScriptTag.parentNode.insertBefore(tag, firstScriptTag);\n});\n};\n\nif(typeof $3Dmolpromise === 'undefined') {\n$3Dmolpromise = null;\n  $3Dmolpromise = loadScriptAsync('https://3dmol.csb.pitt.edu/build/3Dmol.js');\n}\n\nvar viewer_15638944740393531 = null;\nvar warn = document.getElementById(\"3dmolwarning_15638944740393531\");\nif(warn) {\n    warn.parentNode.removeChild(warn);\n}\n$3Dmolpromise.then(function() {\nviewer_15638944740393531 = $3Dmol.createViewer($(\"#3dmolviewer_15638944740393531\"),{backgroundColor:\"white\"});\n\tviewer_15638944740393531.addModel(\"72\\nC54H18\\nC                     2.903604033453    -6.112482329788    -2.100940515408\\nC                     2.903603382565    -6.112487304054    -0.744107403214\\nC                     2.903596069336     6.112511984879    -2.100938033567\\nC                     2.903596667306     6.112507587416    -0.744102465991\\nC                     3.136053574199    -4.883593784133    -4.251905914701\\nC                     3.094346715762    -4.901845079670    -2.857595519928\\nC                     3.094346244794    -4.901850524904     0.012547606598\\nC                     3.136053314903    -4.883599001821     1.406858858638\\nC                     3.136048917440     4.883603912585    -4.251916942755\\nC                     3.094339847042     4.901880291122    -2.857602991911\\nC                     3.094340503222     4.901874110332     0.012560248641\\nC                     3.136049510118     4.883598917152     1.406873167590\\nC                     3.394645977308    -3.657952650851    -6.402321604708\\nC                     3.305058894969    -3.696675976424    -4.965192756557\\nC                     3.244196885152    -3.681150049357    -2.134435247342\\nC                     3.244196472393    -3.681155536925    -0.710614264104\\nC                     3.305058720341    -3.696684210421     2.120150600675\\nC                     3.394647019788    -3.657948168720     3.557280274342\\nC                     3.394645098874     3.657915402067    -6.402351513804\\nC                     3.305054756803     3.696694725172    -4.965221093997\\nC                     3.244191889719     3.681190118655    -2.134434236613\\nC                     3.244192498273     3.681183837322    -0.710607638805\\nC                     3.305055450026     3.696686337713     2.120171116875\\nC                     3.394644987747     3.657920709714     3.557301145091\\nC                     3.524256092076    -2.487901551798    -7.077124981145\\nC                     3.388666317162    -2.459158958219    -4.260200068965\\nC                     3.368221169328    -2.456039649066    -2.840840076072\\nC                     3.368220878281    -2.456048248196    -0.004206440231\\nC                     3.388666089616    -2.459169414761     1.415155076692\\nC                     3.524256965218    -2.487895963687     4.232082788220\\nC                     3.524255107806     2.487850898956    -7.077141517933\\nC                     3.388663512523     2.459188676811    -4.260215658525\\nC                     3.368217973098     2.456082904011    -2.840847860268\\nC                     3.368218475816     2.456073357654    -0.004197581805\\nC                     3.388664046992     2.459177987431     1.415168443709\\nC                     3.524254938470     2.487857090329     4.232090074990\\nC                     3.542570200948    -1.219005732612    -6.395645753732\\nC                     3.475755222683    -1.228237890524    -4.970401987603\\nC                     3.430567082005    -1.228942601107    -2.131991554609\\nC                     3.430566896793    -1.228951142027    -0.713057237156\\nC                     3.475755317935    -1.228248775699     2.125359625341\\nC                     3.542570883587    -1.219000657803     3.550604449824\\nC                     3.542570624290     1.218954391839    -6.395668630062\\nC                     3.475754026742     1.228263481534    -4.970422429718\\nC                     3.430565468014     1.228989830173    -2.131990358668\\nC                     3.430565759062     1.228980892370    -0.713052998446\\nC                     3.475754375999     1.228252421730     2.125372817729\\nC                     3.542570597831     1.218959440190     3.550617933260\\nC                     3.589719842793    -0.000035147950    -7.072735233928\\nC                     3.474337885025     0.000020886625    -4.259012955145\\nC                     3.454492755355     0.000024950705    -2.840866058673\\nC                     3.454492877066     0.000012366871    -0.004179970787\\nC                     3.474338075529     0.000007260311     1.413967179690\\nC                     3.589720234384    -0.000026088436     4.227689553725\\nH                     2.754263255338    -7.040868584476    -2.642719261126\\nH                     2.754262371612    -7.040874913436    -0.202331869602\\nH                     2.754253121594     7.040900557363    -2.642711106505\\nH                     2.754253973569     7.040894381865    -0.202325625311\\nH                     3.023176751931    -5.816498889402    -4.796678967331\\nH                     3.023176122210    -5.816504429888     1.951630186150\\nH                     3.023170380637     5.816506133838    -4.796692419016\\nH                     3.023171222029     5.816500365807     1.951650501263\\nH                     3.354201333521    -4.595760440099    -6.946996256836\\nH                     3.354203053347    -4.595753105703     4.101959165179\\nH                     3.354201846823     4.595710247640    -6.947048449584\\nH                     3.354201481691     4.595718031837     4.101994244336\\nH                     3.628610462449    -2.494167650277    -8.157316857894\\nH                     3.628611483761    -2.494160733931     5.312275024810\\nH                     3.628609255925     2.494108869272    -8.157333071884\\nH                     3.628609203008     2.494116283045     5.312281745360\\nH                     3.698094795777    -0.000047170857    -8.153506247508\\nH                     3.698095055074    -0.000032935990     5.308459895251\\n\",\"xyz\");\n\tviewer_15638944740393531.setStyle({\"stick\": {\"radius\": 0.2}, \"sphere\": {\"scale\": 0.3}});\n\tviewer_15638944740393531.zoomTo();\nviewer_15638944740393531.render();\n});\n</script>",
      "text/html": [
       "<div id=\"3dmolviewer_15638944740393531\"  style=\"position: relative; width: 400px; height: 400px\">\n",
       "        <p id=\"3dmolwarning_15638944740393531\" style=\"background-color:#ffcccc;color:black\">You appear to be running in JupyterLab (or JavaScript failed to load for some other reason).  You need to install the 3dmol extension: <br>\n",
       "        <tt>jupyter labextension install jupyterlab_3dmol</tt></p>\n",
       "        </div>\n",
       "<script>\n",
       "\n",
       "var loadScriptAsync = function(uri){\n",
       "  return new Promise((resolve, reject) => {\n",
       "    var tag = document.createElement('script');\n",
       "    tag.src = uri;\n",
       "    tag.async = true;\n",
       "    tag.onload = () => {\n",
       "      resolve();\n",
       "    };\n",
       "  var firstScriptTag = document.getElementsByTagName('script')[0];\n",
       "  firstScriptTag.parentNode.insertBefore(tag, firstScriptTag);\n",
       "});\n",
       "};\n",
       "\n",
       "if(typeof $3Dmolpromise === 'undefined') {\n",
       "$3Dmolpromise = null;\n",
       "  $3Dmolpromise = loadScriptAsync('https://3dmol.csb.pitt.edu/build/3Dmol.js');\n",
       "}\n",
       "\n",
       "var viewer_15638944740393531 = null;\n",
       "var warn = document.getElementById(\"3dmolwarning_15638944740393531\");\n",
       "if(warn) {\n",
       "    warn.parentNode.removeChild(warn);\n",
       "}\n",
       "$3Dmolpromise.then(function() {\n",
       "viewer_15638944740393531 = $3Dmol.createViewer($(\"#3dmolviewer_15638944740393531\"),{backgroundColor:\"white\"});\n",
       "\tviewer_15638944740393531.addModel(\"72\\nC54H18\\nC                     2.903604033453    -6.112482329788    -2.100940515408\\nC                     2.903603382565    -6.112487304054    -0.744107403214\\nC                     2.903596069336     6.112511984879    -2.100938033567\\nC                     2.903596667306     6.112507587416    -0.744102465991\\nC                     3.136053574199    -4.883593784133    -4.251905914701\\nC                     3.094346715762    -4.901845079670    -2.857595519928\\nC                     3.094346244794    -4.901850524904     0.012547606598\\nC                     3.136053314903    -4.883599001821     1.406858858638\\nC                     3.136048917440     4.883603912585    -4.251916942755\\nC                     3.094339847042     4.901880291122    -2.857602991911\\nC                     3.094340503222     4.901874110332     0.012560248641\\nC                     3.136049510118     4.883598917152     1.406873167590\\nC                     3.394645977308    -3.657952650851    -6.402321604708\\nC                     3.305058894969    -3.696675976424    -4.965192756557\\nC                     3.244196885152    -3.681150049357    -2.134435247342\\nC                     3.244196472393    -3.681155536925    -0.710614264104\\nC                     3.305058720341    -3.696684210421     2.120150600675\\nC                     3.394647019788    -3.657948168720     3.557280274342\\nC                     3.394645098874     3.657915402067    -6.402351513804\\nC                     3.305054756803     3.696694725172    -4.965221093997\\nC                     3.244191889719     3.681190118655    -2.134434236613\\nC                     3.244192498273     3.681183837322    -0.710607638805\\nC                     3.305055450026     3.696686337713     2.120171116875\\nC                     3.394644987747     3.657920709714     3.557301145091\\nC                     3.524256092076    -2.487901551798    -7.077124981145\\nC                     3.388666317162    -2.459158958219    -4.260200068965\\nC                     3.368221169328    -2.456039649066    -2.840840076072\\nC                     3.368220878281    -2.456048248196    -0.004206440231\\nC                     3.388666089616    -2.459169414761     1.415155076692\\nC                     3.524256965218    -2.487895963687     4.232082788220\\nC                     3.524255107806     2.487850898956    -7.077141517933\\nC                     3.388663512523     2.459188676811    -4.260215658525\\nC                     3.368217973098     2.456082904011    -2.840847860268\\nC                     3.368218475816     2.456073357654    -0.004197581805\\nC                     3.388664046992     2.459177987431     1.415168443709\\nC                     3.524254938470     2.487857090329     4.232090074990\\nC                     3.542570200948    -1.219005732612    -6.395645753732\\nC                     3.475755222683    -1.228237890524    -4.970401987603\\nC                     3.430567082005    -1.228942601107    -2.131991554609\\nC                     3.430566896793    -1.228951142027    -0.713057237156\\nC                     3.475755317935    -1.228248775699     2.125359625341\\nC                     3.542570883587    -1.219000657803     3.550604449824\\nC                     3.542570624290     1.218954391839    -6.395668630062\\nC                     3.475754026742     1.228263481534    -4.970422429718\\nC                     3.430565468014     1.228989830173    -2.131990358668\\nC                     3.430565759062     1.228980892370    -0.713052998446\\nC                     3.475754375999     1.228252421730     2.125372817729\\nC                     3.542570597831     1.218959440190     3.550617933260\\nC                     3.589719842793    -0.000035147950    -7.072735233928\\nC                     3.474337885025     0.000020886625    -4.259012955145\\nC                     3.454492755355     0.000024950705    -2.840866058673\\nC                     3.454492877066     0.000012366871    -0.004179970787\\nC                     3.474338075529     0.000007260311     1.413967179690\\nC                     3.589720234384    -0.000026088436     4.227689553725\\nH                     2.754263255338    -7.040868584476    -2.642719261126\\nH                     2.754262371612    -7.040874913436    -0.202331869602\\nH                     2.754253121594     7.040900557363    -2.642711106505\\nH                     2.754253973569     7.040894381865    -0.202325625311\\nH                     3.023176751931    -5.816498889402    -4.796678967331\\nH                     3.023176122210    -5.816504429888     1.951630186150\\nH                     3.023170380637     5.816506133838    -4.796692419016\\nH                     3.023171222029     5.816500365807     1.951650501263\\nH                     3.354201333521    -4.595760440099    -6.946996256836\\nH                     3.354203053347    -4.595753105703     4.101959165179\\nH                     3.354201846823     4.595710247640    -6.947048449584\\nH                     3.354201481691     4.595718031837     4.101994244336\\nH                     3.628610462449    -2.494167650277    -8.157316857894\\nH                     3.628611483761    -2.494160733931     5.312275024810\\nH                     3.628609255925     2.494108869272    -8.157333071884\\nH                     3.628609203008     2.494116283045     5.312281745360\\nH                     3.698094795777    -0.000047170857    -8.153506247508\\nH                     3.698095055074    -0.000032935990     5.308459895251\\n\",\"xyz\");\n",
       "\tviewer_15638944740393531.setStyle({\"stick\": {\"radius\": 0.2}, \"sphere\": {\"scale\": 0.3}});\n",
       "\tviewer_15638944740393531.zoomTo();\n",
       "viewer_15638944740393531.render();\n",
       "});\n",
       "</script>"
      ]
     },
     "metadata": {},
     "output_type": "display_data"
    },
    {
     "data": {
      "text/plain": [
       "<Molecule(name='C54H18' formula='C54H18' hash='3fd70b3')>"
      ]
     },
     "execution_count": 46,
     "metadata": {},
     "output_type": "execute_result"
    }
   ],
   "source": [
    "geo_opt[0].get_final_molecule()"
   ]
  },
  {
   "cell_type": "code",
   "execution_count": 48,
   "metadata": {},
   "outputs": [
    {
     "data": {
      "text/plain": [
       "['Config',\n",
       " '__abstractmethods__',\n",
       " '__annotations__',\n",
       " '__class__',\n",
       " '__config__',\n",
       " '__delattr__',\n",
       " '__dict__',\n",
       " '__dir__',\n",
       " '__doc__',\n",
       " '__eq__',\n",
       " '__fields__',\n",
       " '__fields_set__',\n",
       " '__format__',\n",
       " '__ge__',\n",
       " '__get_validators__',\n",
       " '__getattr__',\n",
       " '__getattribute__',\n",
       " '__getstate__',\n",
       " '__gt__',\n",
       " '__hash__',\n",
       " '__init__',\n",
       " '__init_subclass__',\n",
       " '__iter__',\n",
       " '__le__',\n",
       " '__lt__',\n",
       " '__module__',\n",
       " '__ne__',\n",
       " '__new__',\n",
       " '__reduce__',\n",
       " '__reduce_ex__',\n",
       " '__repr__',\n",
       " '__setattr__',\n",
       " '__setstate__',\n",
       " '__sizeof__',\n",
       " '__slots__',\n",
       " '__str__',\n",
       " '__subclasshook__',\n",
       " '__validators__',\n",
       " '__values__',\n",
       " '__weakref__',\n",
       " '_abc_impl',\n",
       " '_calculate_keys',\n",
       " '_custom_root_type',\n",
       " '_decompose_class',\n",
       " '_get_key_factory',\n",
       " '_get_value',\n",
       " '_hash_indices',\n",
       " '_iter',\n",
       " '_json_encoder',\n",
       " '_kvstore_getter',\n",
       " '_schema_cache',\n",
       " 'build_schema_input',\n",
       " 'cache',\n",
       " 'check_client',\n",
       " 'check_keywords',\n",
       " 'check_program',\n",
       " 'client',\n",
       " 'construct',\n",
       " 'copy',\n",
       " 'created_on',\n",
       " 'dict',\n",
       " 'energies',\n",
       " 'error',\n",
       " 'extras',\n",
       " 'fields',\n",
       " 'final_molecule',\n",
       " 'from_orm',\n",
       " 'get_error',\n",
       " 'get_final_energy',\n",
       " 'get_final_molecule',\n",
       " 'get_hash_fields',\n",
       " 'get_hash_index',\n",
       " 'get_initial_molecule',\n",
       " 'get_stderr',\n",
       " 'get_stdout',\n",
       " 'get_trajectory',\n",
       " 'hash_index',\n",
       " 'id',\n",
       " 'initial_molecule',\n",
       " 'json',\n",
       " 'json_dict',\n",
       " 'keywords',\n",
       " 'modified_on',\n",
       " 'parse_file',\n",
       " 'parse_obj',\n",
       " 'parse_raw',\n",
       " 'procedure',\n",
       " 'program',\n",
       " 'provenance',\n",
       " 'qc_spec',\n",
       " 'schema',\n",
       " 'schema_json',\n",
       " 'schema_version',\n",
       " 'show_history',\n",
       " 'status',\n",
       " 'stderr',\n",
       " 'stdout',\n",
       " 'task_id',\n",
       " 'to_string',\n",
       " 'trajectory',\n",
       " 'update_forward_refs',\n",
       " 'validate',\n",
       " 'version']"
      ]
     },
     "execution_count": 48,
     "metadata": {},
     "output_type": "execute_result"
    }
   ],
   "source": [
    "dir(geo_opt[0])"
   ]
  },
  {
   "cell_type": "code",
   "execution_count": 55,
   "metadata": {},
   "outputs": [
    {
     "data": {
      "application/3dmoljs_load.v0": "<div id=\"3dmolviewer_1563894908671013\"  style=\"position: relative; width: 400px; height: 400px\">\n        <p id=\"3dmolwarning_1563894908671013\" style=\"background-color:#ffcccc;color:black\">You appear to be running in JupyterLab (or JavaScript failed to load for some other reason).  You need to install the 3dmol extension: <br>\n        <tt>jupyter labextension install jupyterlab_3dmol</tt></p>\n        </div>\n<script>\n\nvar loadScriptAsync = function(uri){\n  return new Promise((resolve, reject) => {\n    var tag = document.createElement('script');\n    tag.src = uri;\n    tag.async = true;\n    tag.onload = () => {\n      resolve();\n    };\n  var firstScriptTag = document.getElementsByTagName('script')[0];\n  firstScriptTag.parentNode.insertBefore(tag, firstScriptTag);\n});\n};\n\nif(typeof $3Dmolpromise === 'undefined') {\n$3Dmolpromise = null;\n  $3Dmolpromise = loadScriptAsync('https://3dmol.csb.pitt.edu/build/3Dmol.js');\n}\n\nvar viewer_1563894908671013 = null;\nvar warn = document.getElementById(\"3dmolwarning_1563894908671013\");\nif(warn) {\n    warn.parentNode.removeChild(warn);\n}\n$3Dmolpromise.then(function() {\nviewer_1563894908671013 = $3Dmol.createViewer($(\"#3dmolviewer_1563894908671013\"),{backgroundColor:\"white\"});\n\tviewer_1563894908671013.addModel(\"72\\nC54H18\\nC                     1.219221001901    -4.550194001216    -2.133023000369\\nC                     1.219221001901    -4.550194001216    -0.712023002632\\nC                     1.219221001901     4.550194001216    -2.133023000369\\nC                     1.219221001901     4.550194001216    -0.712023002632\\nC                     2.355354000793    -4.079591998090    -4.266046000738\\nC                     2.355354000793    -4.079591998090    -2.845045997709\\nC                     2.355354000793    -4.079591998090     0.000000000000\\nC                     2.355354000793    -4.079591998090     1.420999997737\\nC                     2.355354000793     4.079591998090    -4.266046000738\\nC                     2.355354000793     4.079591998090    -2.845045997709\\nC                     2.355354000793     4.079591998090     0.000000000000\\nC                     2.355354000793     4.079591998090     1.420999997737\\nC                     3.330972999315    -3.330972999315    -6.399070001252\\nC                     3.330972999315    -3.330972999315    -4.978069998223\\nC                     3.330972999315    -3.330972999315    -2.133023000369\\nC                     3.330972999315    -3.330972999315    -0.712023002632\\nC                     3.330972999315    -3.330972999315     2.133023000369\\nC                     3.330972999315    -3.330972999315     3.554022998107\\nC                     3.330972999315     3.330972999315    -6.399070001252\\nC                     3.330972999315     3.330972999315    -4.978069998223\\nC                     3.330972999315     3.330972999315    -2.133023000369\\nC                     3.330972999315     3.330972999315    -0.712023002632\\nC                     3.330972999315     3.330972999315     2.133023000369\\nC                     3.330972999315     3.330972999315     3.554022998107\\nC                     4.079591998090    -2.355354000793    -7.111092998592\\nC                     4.079591998090    -2.355354000793    -4.266046000738\\nC                     4.079591998090    -2.355354000793    -2.845045997709\\nC                     4.079591998090    -2.355354000793     0.000000000000\\nC                     4.079591998090    -2.355354000793     1.420999997737\\nC                     4.079591998090    -2.355354000793     4.266046000738\\nC                     4.079591998090     2.355354000793    -7.111092998592\\nC                     4.079591998090     2.355354000793    -4.266046000738\\nC                     4.079591998090     2.355354000793    -2.845045997709\\nC                     4.079591998090     2.355354000793     0.000000000000\\nC                     4.079591998090     2.355354000793     1.420999997737\\nC                     4.079591998090     2.355354000793     4.266046000738\\nC                     4.550194001216    -1.219221001901    -6.399070001252\\nC                     4.550194001216    -1.219221001901    -4.978069998223\\nC                     4.550194001216    -1.219221001901    -2.133023000369\\nC                     4.550194001216    -1.219221001901    -0.712023002632\\nC                     4.550194001216    -1.219221001901     2.133023000369\\nC                     4.550194001216    -1.219221001901     3.554022998107\\nC                     4.550194001216     1.219221001901    -6.399070001252\\nC                     4.550194001216     1.219221001901    -4.978069998223\\nC                     4.550194001216     1.219221001901    -2.133023000369\\nC                     4.550194001216     1.219221001901    -0.712023002632\\nC                     4.550194001216     1.219221001901     2.133023000369\\nC                     4.550194001216     1.219221001901     3.554022998107\\nC                     4.710707001441     0.000000000000    -7.111092998592\\nC                     4.710707001441     0.000000000000    -4.266046000738\\nC                     4.710707001441     0.000000000000    -2.845045997709\\nC                     4.710707001441     0.000000000000     0.000000000000\\nC                     4.710707001441     0.000000000000     1.420999997737\\nC                     4.710707001441     0.000000000000     4.266046000738\\nH                     0.288683440765    -4.672701218998    -2.676455361369\\nH                     0.288683440765    -4.672701218998    -0.168590641632\\nH                     0.288683440765     4.672701218998    -2.676455361369\\nH                     0.288683440765     4.672701218998    -0.168590641632\\nH                     1.488231459635    -4.438766150819    -4.809478912082\\nH                     1.488231147420    -4.438766277821     1.964432337570\\nH                     1.488231459635     4.438766150819    -4.809478912082\\nH                     1.488231147420     4.438766277821     1.964432337570\\nH                     2.586357829400    -3.902336471225    -6.942502547464\\nH                     2.586357829400    -3.902336471225     4.097455549610\\nH                     2.586357829400     3.902336471225    -6.942502547464\\nH                     2.586357829400     3.902336471225     4.097455549610\\nH                     4.079591998090    -2.355354000793    -8.195632949853\\nH                     4.079591998090    -2.355354000793     5.350585951999\\nH                     4.079591998090     2.355354000793    -8.195632949853\\nH                     4.079591998090     2.355354000793     5.350585951999\\nH                     4.710707001441     0.000000000000    -8.195632949853\\nH                     4.710707001441     0.000000000000     5.350585951999\\n\",\"xyz\");\n\tviewer_1563894908671013.setStyle({\"stick\": {\"radius\": 0.2}, \"sphere\": {\"scale\": 0.3}});\n\tviewer_1563894908671013.zoomTo();\nviewer_1563894908671013.render();\n});\n</script>",
      "text/html": [
       "<div id=\"3dmolviewer_1563894908671013\"  style=\"position: relative; width: 400px; height: 400px\">\n",
       "        <p id=\"3dmolwarning_1563894908671013\" style=\"background-color:#ffcccc;color:black\">You appear to be running in JupyterLab (or JavaScript failed to load for some other reason).  You need to install the 3dmol extension: <br>\n",
       "        <tt>jupyter labextension install jupyterlab_3dmol</tt></p>\n",
       "        </div>\n",
       "<script>\n",
       "\n",
       "var loadScriptAsync = function(uri){\n",
       "  return new Promise((resolve, reject) => {\n",
       "    var tag = document.createElement('script');\n",
       "    tag.src = uri;\n",
       "    tag.async = true;\n",
       "    tag.onload = () => {\n",
       "      resolve();\n",
       "    };\n",
       "  var firstScriptTag = document.getElementsByTagName('script')[0];\n",
       "  firstScriptTag.parentNode.insertBefore(tag, firstScriptTag);\n",
       "});\n",
       "};\n",
       "\n",
       "if(typeof $3Dmolpromise === 'undefined') {\n",
       "$3Dmolpromise = null;\n",
       "  $3Dmolpromise = loadScriptAsync('https://3dmol.csb.pitt.edu/build/3Dmol.js');\n",
       "}\n",
       "\n",
       "var viewer_1563894908671013 = null;\n",
       "var warn = document.getElementById(\"3dmolwarning_1563894908671013\");\n",
       "if(warn) {\n",
       "    warn.parentNode.removeChild(warn);\n",
       "}\n",
       "$3Dmolpromise.then(function() {\n",
       "viewer_1563894908671013 = $3Dmol.createViewer($(\"#3dmolviewer_1563894908671013\"),{backgroundColor:\"white\"});\n",
       "\tviewer_1563894908671013.addModel(\"72\\nC54H18\\nC                     1.219221001901    -4.550194001216    -2.133023000369\\nC                     1.219221001901    -4.550194001216    -0.712023002632\\nC                     1.219221001901     4.550194001216    -2.133023000369\\nC                     1.219221001901     4.550194001216    -0.712023002632\\nC                     2.355354000793    -4.079591998090    -4.266046000738\\nC                     2.355354000793    -4.079591998090    -2.845045997709\\nC                     2.355354000793    -4.079591998090     0.000000000000\\nC                     2.355354000793    -4.079591998090     1.420999997737\\nC                     2.355354000793     4.079591998090    -4.266046000738\\nC                     2.355354000793     4.079591998090    -2.845045997709\\nC                     2.355354000793     4.079591998090     0.000000000000\\nC                     2.355354000793     4.079591998090     1.420999997737\\nC                     3.330972999315    -3.330972999315    -6.399070001252\\nC                     3.330972999315    -3.330972999315    -4.978069998223\\nC                     3.330972999315    -3.330972999315    -2.133023000369\\nC                     3.330972999315    -3.330972999315    -0.712023002632\\nC                     3.330972999315    -3.330972999315     2.133023000369\\nC                     3.330972999315    -3.330972999315     3.554022998107\\nC                     3.330972999315     3.330972999315    -6.399070001252\\nC                     3.330972999315     3.330972999315    -4.978069998223\\nC                     3.330972999315     3.330972999315    -2.133023000369\\nC                     3.330972999315     3.330972999315    -0.712023002632\\nC                     3.330972999315     3.330972999315     2.133023000369\\nC                     3.330972999315     3.330972999315     3.554022998107\\nC                     4.079591998090    -2.355354000793    -7.111092998592\\nC                     4.079591998090    -2.355354000793    -4.266046000738\\nC                     4.079591998090    -2.355354000793    -2.845045997709\\nC                     4.079591998090    -2.355354000793     0.000000000000\\nC                     4.079591998090    -2.355354000793     1.420999997737\\nC                     4.079591998090    -2.355354000793     4.266046000738\\nC                     4.079591998090     2.355354000793    -7.111092998592\\nC                     4.079591998090     2.355354000793    -4.266046000738\\nC                     4.079591998090     2.355354000793    -2.845045997709\\nC                     4.079591998090     2.355354000793     0.000000000000\\nC                     4.079591998090     2.355354000793     1.420999997737\\nC                     4.079591998090     2.355354000793     4.266046000738\\nC                     4.550194001216    -1.219221001901    -6.399070001252\\nC                     4.550194001216    -1.219221001901    -4.978069998223\\nC                     4.550194001216    -1.219221001901    -2.133023000369\\nC                     4.550194001216    -1.219221001901    -0.712023002632\\nC                     4.550194001216    -1.219221001901     2.133023000369\\nC                     4.550194001216    -1.219221001901     3.554022998107\\nC                     4.550194001216     1.219221001901    -6.399070001252\\nC                     4.550194001216     1.219221001901    -4.978069998223\\nC                     4.550194001216     1.219221001901    -2.133023000369\\nC                     4.550194001216     1.219221001901    -0.712023002632\\nC                     4.550194001216     1.219221001901     2.133023000369\\nC                     4.550194001216     1.219221001901     3.554022998107\\nC                     4.710707001441     0.000000000000    -7.111092998592\\nC                     4.710707001441     0.000000000000    -4.266046000738\\nC                     4.710707001441     0.000000000000    -2.845045997709\\nC                     4.710707001441     0.000000000000     0.000000000000\\nC                     4.710707001441     0.000000000000     1.420999997737\\nC                     4.710707001441     0.000000000000     4.266046000738\\nH                     0.288683440765    -4.672701218998    -2.676455361369\\nH                     0.288683440765    -4.672701218998    -0.168590641632\\nH                     0.288683440765     4.672701218998    -2.676455361369\\nH                     0.288683440765     4.672701218998    -0.168590641632\\nH                     1.488231459635    -4.438766150819    -4.809478912082\\nH                     1.488231147420    -4.438766277821     1.964432337570\\nH                     1.488231459635     4.438766150819    -4.809478912082\\nH                     1.488231147420     4.438766277821     1.964432337570\\nH                     2.586357829400    -3.902336471225    -6.942502547464\\nH                     2.586357829400    -3.902336471225     4.097455549610\\nH                     2.586357829400     3.902336471225    -6.942502547464\\nH                     2.586357829400     3.902336471225     4.097455549610\\nH                     4.079591998090    -2.355354000793    -8.195632949853\\nH                     4.079591998090    -2.355354000793     5.350585951999\\nH                     4.079591998090     2.355354000793    -8.195632949853\\nH                     4.079591998090     2.355354000793     5.350585951999\\nH                     4.710707001441     0.000000000000    -8.195632949853\\nH                     4.710707001441     0.000000000000     5.350585951999\\n\",\"xyz\");\n",
       "\tviewer_1563894908671013.setStyle({\"stick\": {\"radius\": 0.2}, \"sphere\": {\"scale\": 0.3}});\n",
       "\tviewer_1563894908671013.zoomTo();\n",
       "viewer_1563894908671013.render();\n",
       "});\n",
       "</script>"
      ]
     },
     "metadata": {},
     "output_type": "display_data"
    },
    {
     "data": {
      "text/plain": [
       "<py3Dmol.view at 0x11ac97400>"
      ]
     },
     "execution_count": 55,
     "metadata": {},
     "output_type": "execute_result"
    }
   ],
   "source": [
    "initial = geo_opt[0].get_initial_molecule()\n",
    "\n",
    "final = geo_opt[0].get_final_molecule()\n",
    "\n",
    "initial.show()\n",
    "#final.show()"
   ]
  },
  {
   "cell_type": "code",
   "execution_count": 54,
   "metadata": {},
   "outputs": [],
   "source": [
    "# Since this is from QM calculations it does not have the bond information. \n",
    "initial.connectivity"
   ]
  },
  {
   "cell_type": "code",
   "execution_count": 63,
   "metadata": {},
   "outputs": [],
   "source": [
    "# Now we are using our calculate bond function to get the bond information.\n",
    "initial_coordinates = initial.geometry.copy()\n",
    "final_coordinates = final.geometry.copy()\n",
    "\n",
    "initial_bonds = build_bond_list(initial.geometry.copy(), max_bond=2.93)\n",
    "final_bonds = build_bond_list(final_coordinates, max_bond=2.93)\n",
    "#initial_bonds"
   ]
  },
  {
   "cell_type": "code",
   "execution_count": 68,
   "metadata": {},
   "outputs": [
    {
     "ename": "TypeError",
     "evalue": "'dict' object is not callable",
     "output_type": "error",
     "traceback": [
      "\u001b[0;31m---------------------------------------------------------------------------\u001b[0m",
      "\u001b[0;31mTypeError\u001b[0m                                 Traceback (most recent call last)",
      "\u001b[0;32m<ipython-input-68-ad38a6f0d3a3>\u001b[0m in \u001b[0;36m<module>\u001b[0;34m\u001b[0m\n\u001b[0;32m----> 1\u001b[0;31m \u001b[0mfinal_bonds\u001b[0m\u001b[0;34m(\u001b[0m\u001b[0;36m1\u001b[0m\u001b[0;34m)\u001b[0m\u001b[0;34m\u001b[0m\u001b[0;34m\u001b[0m\u001b[0m\n\u001b[0m",
      "\u001b[0;31mTypeError\u001b[0m: 'dict' object is not callable"
     ]
    }
   ],
   "source": [
    "final_bonds()"
   ]
  },
  {
   "cell_type": "code",
   "execution_count": 78,
   "metadata": {},
   "outputs": [
    {
     "name": "stdout",
     "output_type": "stream",
     "text": [
      " Differences for bond (0, 1) from its initial length to the final length is -0.12125783998247419.\n",
      " Differences for bond (0, 5) from its initial length to the final length is 0.03652933845980799.\n",
      " Differences for bond (0, 54) from its initial length to the final length is 0.0013072821258468537.\n",
      " Differences for bond (1, 6) from its initial length to the final length is 0.0365286356592871.\n",
      " Differences for bond (1, 55) from its initial length to the final length is 0.0013065023782292684.\n",
      " Differences for bond (2, 3) from its initial length to the final length is -0.12125319998628425.\n",
      " Differences for bond (2, 9) from its initial length to the final length is 0.036530668675503364.\n",
      " Differences for bond (2, 56) from its initial length to the final length is 0.0013062416111879749.\n",
      " Differences for bond (3, 10) from its initial length to the final length is 0.0365312833547744.\n",
      " Differences for bond (3, 57) from its initial length to the final length is 0.0013068556466429015.\n",
      " Differences for bond (4, 5) from its initial length to the final length is -0.04903193300734543.\n",
      " Differences for bond (4, 13) from its initial length to the final length is -0.0490720625963279.\n",
      " Differences for bond (4, 58) from its initial length to the final length is 0.003137346014596698.\n",
      " Differences for bond (5, 14) from its initial length to the final length is 0.010798420718752144.\n",
      " Differences for bond (6, 7) from its initial length to the final length is -0.04903028628599815.\n",
      " Differences for bond (6, 15) from its initial length to the final length is 0.01079988956621758.\n",
      " Differences for bond (7, 16) from its initial length to the final length is -0.04907121615054244.\n",
      " Differences for bond (7, 59) from its initial length to the final length is 0.0031362976027144995.\n",
      " Differences for bond (8, 9) from its initial length to the final length is -0.049024471064973874.\n",
      " Differences for bond (8, 19) from its initial length to the final length is -0.04906907865232091.\n",
      " Differences for bond (8, 60) from its initial length to the final length is 0.003135298936773445.\n",
      " Differences for bond (9, 20) from its initial length to the final length is 0.010799063343710724.\n",
      " Differences for bond (10, 11) from its initial length to the final length is -0.04902644295843839.\n",
      " Differences for bond (10, 21) from its initial length to the final length is 0.010798380165098376.\n",
      " Differences for bond (11, 22) from its initial length to the final length is -0.0490686525226276.\n",
      " Differences for bond (11, 61) from its initial length to the final length is 0.003135746517670235.\n",
      " Differences for bond (12, 13) from its initial length to the final length is 0.03673448192571094.\n",
      " Differences for bond (12, 24) from its initial length to the final length is -0.12113026442271035.\n",
      " Differences for bond (12, 62) from its initial length to the final length is 0.001361072035932498.\n",
      " Differences for bond (13, 25) from its initial length to the final length is 0.010758433401821588.\n",
      " Differences for bond (14, 15) from its initial length to the final length is 0.005330890020097456.\n",
      " Differences for bond (14, 26) from its initial length to the final length is -0.0026306061759662214.\n",
      " Differences for bond (15, 27) from its initial length to the final length is -0.002632849027812245.\n",
      " Differences for bond (16, 17) from its initial length to the final length is 0.03673683749261869.\n",
      " Differences for bond (16, 28) from its initial length to the final length is 0.010758375090764716.\n",
      " Differences for bond (17, 29) from its initial length to the final length is -0.1211293084167182.\n",
      " Differences for bond (17, 63) from its initial length to the final length is 0.0013603817663279116.\n",
      " Differences for bond (18, 19) from its initial length to the final length is 0.0367406750349919.\n",
      " Differences for bond (18, 30) from its initial length to the final length is -0.12112100839360984.\n",
      " Differences for bond (18, 64) from its initial length to the final length is 0.0013609722727370155.\n",
      " Differences for bond (19, 31) from its initial length to the final length is 0.010752503953163295.\n",
      " Differences for bond (20, 21) from its initial length to the final length is 0.005341500026428303.\n",
      " Differences for bond (20, 32) from its initial length to the final length is -0.002627234082538621.\n",
      " Differences for bond (21, 33) from its initial length to the final length is -0.002625285809558786.\n",
      " Differences for bond (22, 23) from its initial length to the final length is 0.0367391555844101.\n",
      " Differences for bond (22, 34) from its initial length to the final length is 0.010754622084423904.\n",
      " Differences for bond (23, 35) from its initial length to the final length is -0.12112347347945551.\n",
      " Differences for bond (23, 65) from its initial length to the final length is 0.0013613904412626.\n",
      " Differences for bond (24, 36) from its initial length to the final length is 0.036722082651104326.\n",
      " Differences for bond (24, 66) from its initial length to the final length is 0.0013209254115045255.\n",
      " Differences for bond (25, 26) from its initial length to the final length is -0.00281444395437358.\n",
      " Differences for bond (25, 37) from its initial length to the final length is 0.005244689677597059.\n",
      " Differences for bond (26, 38) from its initial length to the final length is -0.004738989949032213.\n",
      " Differences for bond (27, 28) from its initial length to the final length is -0.002811544816359035.\n",
      " Differences for bond (27, 39) from its initial length to the final length is -0.004736742214307643.\n",
      " Differences for bond (28, 40) from its initial length to the final length is 0.005247447840868169.\n",
      " Differences for bond (29, 41) from its initial length to the final length is 0.03672042375745255.\n",
      " Differences for bond (29, 67) from its initial length to the final length is 0.0013216146822601083.\n",
      " Differences for bond (30, 42) from its initial length to the final length is 0.03671759385635465.\n",
      " Differences for bond (30, 68) from its initial length to the final length is 0.0013201892319543163.\n",
      " Differences for bond (31, 32) from its initial length to the final length is -0.0027997409503348614.\n",
      " Differences for bond (31, 43) from its initial length to the final length is 0.0052561932376380405.\n",
      " Differences for bond (32, 44) from its initial length to the final length is -0.0047368749095926255.\n",
      " Differences for bond (33, 34) from its initial length to the final length is -0.002803084455640814.\n",
      " Differences for bond (33, 45) from its initial length to the final length is -0.004739861247106347.\n",
      " Differences for bond (34, 46) from its initial length to the final length is 0.005255459388454398.\n",
      " Differences for bond (35, 47) from its initial length to the final length is 0.03671882797980164.\n",
      " Differences for bond (35, 69) from its initial length to the final length is 0.0013204426853357099.\n",
      " Differences for bond (36, 37) from its initial length to the final length is 0.011033929656457886.\n",
      " Differences for bond (36, 48) from its initial length to the final length is -0.04876883331512172.\n",
      " Differences for bond (37, 49) from its initial length to the final length is -0.0030247720650371512.\n",
      " Differences for bond (38, 39) from its initial length to the final length is -0.003903569951401842.\n",
      " Differences for bond (38, 50) from its initial length to the final length is -0.0038622070593614666.\n",
      " Differences for bond (39, 51) from its initial length to the final length is -0.0038662115534449093.\n",
      " Differences for bond (40, 41) from its initial length to the final length is 0.011036184713521635.\n",
      " Differences for bond (40, 52) from its initial length to the final length is -0.0030250799853392962.\n",
      " Differences for bond (41, 53) from its initial length to the final length is -0.04876629142476974.\n",
      " Differences for bond (42, 43) from its initial length to the final length is 0.011039612384856845.\n",
      " Differences for bond (42, 48) from its initial length to the final length is -0.04875854367197974.\n",
      " Differences for bond (43, 49) from its initial length to the final length is -0.003031874903509202.\n",
      " Differences for bond (44, 45) from its initial length to the final length is -0.0038978199467494257.\n",
      " Differences for bond (44, 50) from its initial length to the final length is -0.0038654004268092734.\n",
      " Differences for bond (45, 51) from its initial length to the final length is -0.0038619662115921827.\n",
      " Differences for bond (46, 47) from its initial length to the final length is 0.011037343002595179.\n",
      " Differences for bond (46, 52) from its initial length to the final length is -0.003030369477476036.\n",
      " Differences for bond (47, 53) from its initial length to the final length is -0.04876054414365427.\n",
      " Differences for bond (48, 70) from its initial length to the final length is 0.0031202264385155054.\n",
      " Differences for bond (49, 50) from its initial length to the final length is -0.005129207845958383.\n",
      " Differences for bond (51, 52) from its initial length to the final length is -0.005128716067575478.\n",
      " Differences for bond (53, 71) from its initial length to the final length is 0.003118937747055295.\n"
     ]
    }
   ],
   "source": [
    "# compare the two dictionaries inital bonds and final bonds to find the change in bond length for each bond.\n",
    "\n",
    "def calculate_diff(r1, r2):\n",
    "    diff = r2 -r1\n",
    "    return diff\n",
    "\n",
    "for i in initial_bonds:\n",
    "    diff = calculate_diff(initial_bonds[i], final_bonds[i])\n",
    "    print(f\" Differences for bond {i} from its initial length to the final length is {diff}.\")"
   ]
  },
  {
   "cell_type": "code",
   "execution_count": 75,
   "metadata": {},
   "outputs": [
    {
     "name": "stdout",
     "output_type": "stream",
     "text": [
      "2.6853008199999997\n",
      "2.685300947458371\n",
      "2.0494834766860643\n",
      "2.6853009524690883\n",
      "2.0494834766860643\n",
      "2.6853008199999997\n",
      "2.685300947458371\n",
      "2.0494834766860643\n",
      "2.6853009524690883\n",
      "2.0494834766860643\n",
      "2.685300829999999\n",
      "2.685300829993184\n",
      "2.0494834770587396\n",
      "2.6852998829666923\n",
      "2.68530082\n",
      "2.6852998879774117\n",
      "2.6852998879774117\n",
      "2.0494834871062877\n",
      "2.685300829999999\n",
      "2.685300829993184\n",
      "2.0494834770587396\n",
      "2.6852998829666923\n",
      "2.68530082\n",
      "2.6852998879774117\n",
      "2.6852998879774117\n",
      "2.0494834871062877\n",
      "2.685300829999999\n",
      "2.6852998829666923\n",
      "2.049483475383679\n",
      "2.685300829993184\n",
      "2.6853008199999997\n",
      "2.6852998829666923\n",
      "2.6852998879774117\n",
      "2.68530082\n",
      "2.6852998879774117\n",
      "2.6852998879774117\n",
      "2.049483480394398\n",
      "2.685300829999999\n",
      "2.6852998829666923\n",
      "2.049483475383679\n",
      "2.685300829993184\n",
      "2.6853008199999997\n",
      "2.6852998829666923\n",
      "2.6852998879774117\n",
      "2.68530082\n",
      "2.6852998879774117\n",
      "2.6852998879774117\n",
      "2.049483480394398\n",
      "2.685300947458371\n",
      "2.0494834799999992\n",
      "2.685300829999999\n",
      "2.6853018944844873\n",
      "2.685300947458371\n",
      "2.68530082\n",
      "2.6853009524690883\n",
      "2.6853009524690883\n",
      "2.6853009524690883\n",
      "2.049483480000001\n",
      "2.685300947458371\n",
      "2.0494834799999992\n",
      "2.685300829999999\n",
      "2.6853018944844873\n",
      "2.685300947458371\n",
      "2.68530082\n",
      "2.6853009524690883\n",
      "2.6853009524690883\n",
      "2.6853009524690883\n",
      "2.049483480000001\n",
      "2.685300829999999\n",
      "2.6853008398744698\n",
      "2.685301786900624\n",
      "2.6853008199999997\n",
      "2.6853008398744698\n",
      "2.6853008448851874\n",
      "2.68530082\n",
      "2.6853008448851874\n",
      "2.6853008448851874\n",
      "2.685300829999999\n",
      "2.6853008398744698\n",
      "2.685301786900624\n",
      "2.6853008199999997\n",
      "2.6853008398744698\n",
      "2.6853008448851874\n",
      "2.68530082\n",
      "2.6853008448851874\n",
      "2.6853008448851874\n",
      "2.0494834799999992\n",
      "2.685300829999999\n",
      "2.68530082\n",
      "2.049483480000001\n"
     ]
    }
   ],
   "source": [
    "for i in initial_bonds:\n",
    "    print(initial_bonds[i])"
   ]
  },
  {
   "cell_type": "code",
   "execution_count": null,
   "metadata": {},
   "outputs": [],
   "source": []
  }
 ],
 "metadata": {
  "kernelspec": {
   "display_name": "Python 3",
   "language": "python",
   "name": "python3"
  },
  "language_info": {
   "codemirror_mode": {
    "name": "ipython",
    "version": 3
   },
   "file_extension": ".py",
   "mimetype": "text/x-python",
   "name": "python",
   "nbconvert_exporter": "python",
   "pygments_lexer": "ipython3",
   "version": "3.7.3"
  }
 },
 "nbformat": 4,
 "nbformat_minor": 2
}
