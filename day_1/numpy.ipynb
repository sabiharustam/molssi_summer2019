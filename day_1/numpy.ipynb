{
 "cells": [
  {
   "cell_type": "markdown",
   "metadata": {},
   "source": [
    "# MolSSI Summer School\n",
    "## NumPy"
   ]
  },
  {
   "cell_type": "code",
   "execution_count": 1,
   "metadata": {},
   "outputs": [],
   "source": [
    "import numpy as np"
   ]
  },
  {
   "cell_type": "code",
   "execution_count": 2,
   "metadata": {},
   "outputs": [],
   "source": [
    "# Create some lists\n",
    "r1 = [0.0, 0.1, 0.0]\n",
    "r2 = [0.0, 0.0, 0.0]\n",
    "\n",
    "# Create some numpy arrays\n",
    "r1_array = np.array(r1)\n",
    "r2_array = np.array(r2)"
   ]
  },
  {
   "cell_type": "code",
   "execution_count": 4,
   "metadata": {},
   "outputs": [
    {
     "name": "stdout",
     "output_type": "stream",
     "text": [
      "[0.  0.1 0. ]\n",
      "[0.0, 0.1, 0.0, 0.0, 0.0, 0.0]\n"
     ]
    }
   ],
   "source": [
    "# When we add numpy arrays they will do element wise operation\n",
    "print(r1_array + r2_array)\n",
    "\n",
    "# adding two lists concatenates the list\n",
    "print(r1 + r2)"
   ]
  },
  {
   "cell_type": "code",
   "execution_count": 5,
   "metadata": {},
   "outputs": [
    {
     "name": "stdout",
     "output_type": "stream",
     "text": [
      "[2 3 0]\n"
     ]
    }
   ],
   "source": [
    "a1 = np.array([2, 1, 0])\n",
    "a2 = np.array([1, 3, 5])\n",
    "\n",
    "print(a1 * a2)"
   ]
  },
  {
   "cell_type": "code",
   "execution_count": 6,
   "metadata": {},
   "outputs": [],
   "source": [
    "def calculate_distance(rA, rB):\n",
    "    \"\"\"calculate the distance between point A and B\"\"\"\n",
    "    x_dist = (rA[0] - rB[0]) **2\n",
    "    y_dist = (rA[1] - rB[1]) **2\n",
    "    z_dist = (rA[2] - rB[2]) **2\n",
    "    \n",
    "    distance = np.sqrt(x_dist + y_dist + z_dist)\n",
    "    \n",
    "    return distance"
   ]
  },
  {
   "cell_type": "code",
   "execution_count": 10,
   "metadata": {},
   "outputs": [],
   "source": [
    "def calculate_distance(r1, r2):\n",
    "    \"\"\"calculate the distance between point A and B\"\"\"\n",
    "    distance = np.sqrt(sum((r1-r2) **2))\n",
    "    \n",
    "    return distance"
   ]
  },
  {
   "cell_type": "code",
   "execution_count": 11,
   "metadata": {},
   "outputs": [
    {
     "data": {
      "text/plain": [
       "5.477225575051661"
      ]
     },
     "execution_count": 11,
     "metadata": {},
     "output_type": "execute_result"
    }
   ],
   "source": [
    "calculate_distance(a1, a2)"
   ]
  },
  {
   "cell_type": "code",
   "execution_count": 12,
   "metadata": {},
   "outputs": [],
   "source": [
    "def calculate_distance(r1, r2):\n",
    "    \"\"\"calculate the distance between point A and B\"\"\"\n",
    "    distance = np.linalg.norm(r1 - r2)\n",
    "    \n",
    "    return distance"
   ]
  },
  {
   "cell_type": "code",
   "execution_count": 13,
   "metadata": {},
   "outputs": [
    {
     "data": {
      "text/plain": [
       "5.477225575051661"
      ]
     },
     "execution_count": 13,
     "metadata": {},
     "output_type": "execute_result"
    }
   ],
   "source": [
    "calculate_distance(a1, a2)"
   ]
  },
  {
   "cell_type": "code",
   "execution_count": 14,
   "metadata": {},
   "outputs": [
    {
     "name": "stdout",
     "output_type": "stream",
     "text": [
      "[[0.09532344 0.9889697  0.35262285]\n",
      " [0.96086068 0.36878292 0.21326564]\n",
      " [0.7330639  0.41174449 0.98263665]\n",
      " [0.640851   0.59909877 0.70091977]\n",
      " [0.59424076 0.8824543  0.83051211]\n",
      " [0.19474776 0.48201263 0.17036666]\n",
      " [0.48813537 0.41847114 0.16490888]\n",
      " [0.35673829 0.24005417 0.90540449]\n",
      " [0.85360358 0.5740126  0.37905739]\n",
      " [0.77954514 0.12919635 0.11876875]]\n"
     ]
    }
   ],
   "source": [
    "# create random array\n",
    "coordinates = np.random.random([10, 3])\n",
    "print(coordinates)"
   ]
  },
  {
   "cell_type": "code",
   "execution_count": 15,
   "metadata": {},
   "outputs": [
    {
     "name": "stdout",
     "output_type": "stream",
     "text": [
      "Help on function linspace in module numpy:\n",
      "\n",
      "linspace(start, stop, num=50, endpoint=True, retstep=False, dtype=None, axis=0)\n",
      "    Return evenly spaced numbers over a specified interval.\n",
      "    \n",
      "    Returns `num` evenly spaced samples, calculated over the\n",
      "    interval [`start`, `stop`].\n",
      "    \n",
      "    The endpoint of the interval can optionally be excluded.\n",
      "    \n",
      "    .. versionchanged:: 1.16.0\n",
      "        Non-scalar `start` and `stop` are now supported.\n",
      "    \n",
      "    Parameters\n",
      "    ----------\n",
      "    start : array_like\n",
      "        The starting value of the sequence.\n",
      "    stop : array_like\n",
      "        The end value of the sequence, unless `endpoint` is set to False.\n",
      "        In that case, the sequence consists of all but the last of ``num + 1``\n",
      "        evenly spaced samples, so that `stop` is excluded.  Note that the step\n",
      "        size changes when `endpoint` is False.\n",
      "    num : int, optional\n",
      "        Number of samples to generate. Default is 50. Must be non-negative.\n",
      "    endpoint : bool, optional\n",
      "        If True, `stop` is the last sample. Otherwise, it is not included.\n",
      "        Default is True.\n",
      "    retstep : bool, optional\n",
      "        If True, return (`samples`, `step`), where `step` is the spacing\n",
      "        between samples.\n",
      "    dtype : dtype, optional\n",
      "        The type of the output array.  If `dtype` is not given, infer the data\n",
      "        type from the other input arguments.\n",
      "    \n",
      "        .. versionadded:: 1.9.0\n",
      "    \n",
      "    axis : int, optional\n",
      "        The axis in the result to store the samples.  Relevant only if start\n",
      "        or stop are array-like.  By default (0), the samples will be along a\n",
      "        new axis inserted at the beginning. Use -1 to get an axis at the end.\n",
      "    \n",
      "        .. versionadded:: 1.16.0\n",
      "    \n",
      "    Returns\n",
      "    -------\n",
      "    samples : ndarray\n",
      "        There are `num` equally spaced samples in the closed interval\n",
      "        ``[start, stop]`` or the half-open interval ``[start, stop)``\n",
      "        (depending on whether `endpoint` is True or False).\n",
      "    step : float, optional\n",
      "        Only returned if `retstep` is True\n",
      "    \n",
      "        Size of spacing between samples.\n",
      "    \n",
      "    \n",
      "    See Also\n",
      "    --------\n",
      "    arange : Similar to `linspace`, but uses a step size (instead of the\n",
      "             number of samples).\n",
      "    geomspace : Similar to `linspace`, but with numbers spaced evenly on a log\n",
      "                scale (a geometric progression).\n",
      "    logspace : Similar to `geomspace`, but with the end points specified as\n",
      "               logarithms.\n",
      "    \n",
      "    Examples\n",
      "    --------\n",
      "    >>> np.linspace(2.0, 3.0, num=5)\n",
      "    array([ 2.  ,  2.25,  2.5 ,  2.75,  3.  ])\n",
      "    >>> np.linspace(2.0, 3.0, num=5, endpoint=False)\n",
      "    array([ 2. ,  2.2,  2.4,  2.6,  2.8])\n",
      "    >>> np.linspace(2.0, 3.0, num=5, retstep=True)\n",
      "    (array([ 2.  ,  2.25,  2.5 ,  2.75,  3.  ]), 0.25)\n",
      "    \n",
      "    Graphical illustration:\n",
      "    \n",
      "    >>> import matplotlib.pyplot as plt\n",
      "    >>> N = 8\n",
      "    >>> y = np.zeros(N)\n",
      "    >>> x1 = np.linspace(0, 10, N, endpoint=True)\n",
      "    >>> x2 = np.linspace(0, 10, N, endpoint=False)\n",
      "    >>> plt.plot(x1, y, 'o')\n",
      "    [<matplotlib.lines.Line2D object at 0x...>]\n",
      "    >>> plt.plot(x2, y + 0.5, 'o')\n",
      "    [<matplotlib.lines.Line2D object at 0x...>]\n",
      "    >>> plt.ylim([-0.5, 1])\n",
      "    (-0.5, 1)\n",
      "    >>> plt.show()\n",
      "\n"
     ]
    }
   ],
   "source": [
    "help(np.linspace)"
   ]
  },
  {
   "cell_type": "code",
   "execution_count": 16,
   "metadata": {},
   "outputs": [
    {
     "name": "stdout",
     "output_type": "stream",
     "text": [
      "[ 0.          0.34482759  0.68965517  1.03448276  1.37931034  1.72413793\n",
      "  2.06896552  2.4137931   2.75862069  3.10344828  3.44827586  3.79310345\n",
      "  4.13793103  4.48275862  4.82758621  5.17241379  5.51724138  5.86206897\n",
      "  6.20689655  6.55172414  6.89655172  7.24137931  7.5862069   7.93103448\n",
      "  8.27586207  8.62068966  8.96551724  9.31034483  9.65517241 10.        ]\n"
     ]
    }
   ],
   "source": [
    "test_array = np.linspace(0, 10, num = 30)\n",
    "\n",
    "print(test_array)"
   ]
  },
  {
   "cell_type": "code",
   "execution_count": 17,
   "metadata": {},
   "outputs": [
    {
     "name": "stdout",
     "output_type": "stream",
     "text": [
      "the array shape is (30,)\n",
      "our array has 30 elements\n"
     ]
    }
   ],
   "source": [
    "print(F'the array shape is {test_array.shape}')\n",
    "print(F'our array has {test_array.size} elements')"
   ]
  },
  {
   "cell_type": "code",
   "execution_count": 20,
   "metadata": {},
   "outputs": [
    {
     "data": {
      "text/plain": [
       "[<matplotlib.lines.Line2D at 0x11b6e1f98>]"
      ]
     },
     "execution_count": 20,
     "metadata": {},
     "output_type": "execute_result"
    },
    {
     "data": {
      "image/png": "[encoded data removed]",
      "text/plain": [
       "<Figure size 432x288 with 1 Axes>"
      ]
     },
     "metadata": {
      "needs_background": "light"
     },
     "output_type": "display_data"
    }
   ],
   "source": [
    "import matplotlib.pyplot as plt\n",
    "from mpl_toolkits import mplot3d\n",
    "%matplotlib inline\n",
    "\n",
    "plt.plot(test_array, 'o')"
   ]
  },
  {
   "cell_type": "code",
   "execution_count": 21,
   "metadata": {},
   "outputs": [
    {
     "name": "stdout",
     "output_type": "stream",
     "text": [
      "[[ 0.          0.34482759  0.68965517]\n",
      " [ 1.03448276  1.37931034  1.72413793]\n",
      " [ 2.06896552  2.4137931   2.75862069]\n",
      " [ 3.10344828  3.44827586  3.79310345]\n",
      " [ 4.13793103  4.48275862  4.82758621]\n",
      " [ 5.17241379  5.51724138  5.86206897]\n",
      " [ 6.20689655  6.55172414  6.89655172]\n",
      " [ 7.24137931  7.5862069   7.93103448]\n",
      " [ 8.27586207  8.62068966  8.96551724]\n",
      " [ 9.31034483  9.65517241 10.        ]]\n"
     ]
    }
   ],
   "source": [
    "reshaped_array = test_array.reshape(10,3)\n",
    "\n",
    "print(reshaped_array)"
   ]
  },
  {
   "cell_type": "code",
   "execution_count": 25,
   "metadata": {},
   "outputs": [
    {
     "data": {
      "text/plain": [
       "<mpl_toolkits.mplot3d.art3d.Path3DCollection at 0x11b7bc160>"
      ]
     },
     "execution_count": 25,
     "metadata": {},
     "output_type": "execute_result"
    },
    {
     "data": {
      "image/png": "[encoded data removed]",
      "text/plain": [
       "<Figure size 432x288 with 1 Axes>"
      ]
     },
     "metadata": {
      "needs_background": "light"
     },
     "output_type": "display_data"
    }
   ],
   "source": [
    "ax = plt.axes(projection = '3d')\n",
    "ax.scatter3D(reshaped_array[:,0], reshaped_array[:,1], reshaped_array[:,2])\n",
    "#plt.plot(reshaped_array)\n"
   ]
  },
  {
   "cell_type": "code",
   "execution_count": 35,
   "metadata": {},
   "outputs": [],
   "source": [
    "# write code which calculates the distances between each points in space:\n",
    "def calculate_dist(array):\n",
    "    for i in range(len(array)-1):\n",
    "        dist = distance = np.linalg.norm(array[i+1] - array[i])\n",
    "        print(dist)\n",
    "    return"
   ]
  },
  {
   "cell_type": "code",
   "execution_count": 36,
   "metadata": {},
   "outputs": [
    {
     "data": {
      "text/plain": [
       "array([1.03448276, 1.37931034, 1.72413793])"
      ]
     },
     "execution_count": 36,
     "metadata": {},
     "output_type": "execute_result"
    }
   ],
   "source": [
    "reshaped_array[1]"
   ]
  },
  {
   "cell_type": "code",
   "execution_count": 37,
   "metadata": {},
   "outputs": [
    {
     "name": "stdout",
     "output_type": "stream",
     "text": [
      "1.7917766974850455\n",
      "1.7917766974850455\n",
      "1.7917766974850458\n",
      "1.7917766974850455\n",
      "1.7917766974850458\n",
      "1.7917766974850458\n",
      "1.7917766974850453\n",
      "1.7917766974850462\n",
      "1.7917766974850446\n"
     ]
    }
   ],
   "source": [
    "calculate_dist(reshaped_array)"
   ]
  },
  {
   "cell_type": "code",
   "execution_count": 43,
   "metadata": {},
   "outputs": [],
   "source": [
    "distance_dict = {}\n",
    "for i in range(len(reshaped_array)-1):\n",
    "    p1 = reshaped_array[i]\n",
    "    p2 = reshaped_array[i+1]\n",
    "    distance = calculate_distance(p1, p2)\n",
    "    #distance_dict[F'{i} to {i+1}'] = distance\n",
    "    distance_dict[(i, i+1)] = distance"
   ]
  },
  {
   "cell_type": "code",
   "execution_count": 44,
   "metadata": {},
   "outputs": [
    {
     "data": {
      "text/plain": [
       "{(0, 1): 1.7917766974850455,\n",
       " (1, 2): 1.7917766974850455,\n",
       " (2, 3): 1.7917766974850458,\n",
       " (3, 4): 1.7917766974850455,\n",
       " (4, 5): 1.7917766974850458,\n",
       " (5, 6): 1.7917766974850458,\n",
       " (6, 7): 1.7917766974850453,\n",
       " (7, 8): 1.7917766974850462,\n",
       " (8, 9): 1.7917766974850446}"
      ]
     },
     "execution_count": 44,
     "metadata": {},
     "output_type": "execute_result"
    }
   ],
   "source": [
    "distance_dict"
   ]
  },
  {
   "cell_type": "code",
   "execution_count": 46,
   "metadata": {},
   "outputs": [],
   "source": [
    "a = np.zeros(shape=(10,3))"
   ]
  },
  {
   "cell_type": "code",
   "execution_count": 61,
   "metadata": {},
   "outputs": [],
   "source": [
    "a[:,0 ]= np.linspace(0, 10, num = 10)\n",
    "a[:,1 ]= np.linspace(0, 10, num = 10)\n",
    "a[:,2 ]= np.linspace(0, 10, num = 10)"
   ]
  },
  {
   "cell_type": "code",
   "execution_count": 62,
   "metadata": {},
   "outputs": [
    {
     "data": {
      "text/plain": [
       "array([[ 0.        ,  0.        ,  0.        ],\n",
       "       [ 1.11111111,  1.11111111,  1.11111111],\n",
       "       [ 2.22222222,  2.22222222,  2.22222222],\n",
       "       [ 3.33333333,  3.33333333,  3.33333333],\n",
       "       [ 4.44444444,  4.44444444,  4.44444444],\n",
       "       [ 5.55555556,  5.55555556,  5.55555556],\n",
       "       [ 6.66666667,  6.66666667,  6.66666667],\n",
       "       [ 7.77777778,  7.77777778,  7.77777778],\n",
       "       [ 8.88888889,  8.88888889,  8.88888889],\n",
       "       [10.        , 10.        , 10.        ]])"
      ]
     },
     "execution_count": 62,
     "metadata": {},
     "output_type": "execute_result"
    }
   ],
   "source": [
    "a"
   ]
  },
  {
   "cell_type": "code",
   "execution_count": 63,
   "metadata": {},
   "outputs": [
    {
     "data": {
      "text/plain": [
       "array([[ 0.        ,  0.        ,  0.        ],\n",
       "       [ 1.11111111,  1.11111111,  1.11111111],\n",
       "       [ 2.22222222,  2.22222222,  2.22222222],\n",
       "       [ 3.33333333,  3.33333333,  3.33333333],\n",
       "       [ 4.44444444,  4.44444444,  4.44444444],\n",
       "       [ 5.55555556,  5.55555556,  5.55555556],\n",
       "       [ 6.66666667,  6.66666667,  6.66666667],\n",
       "       [ 7.77777778,  7.77777778,  7.77777778],\n",
       "       [ 8.88888889,  8.88888889,  8.88888889],\n",
       "       [10.        , 10.        , 10.        ]])"
      ]
     },
     "execution_count": 63,
     "metadata": {},
     "output_type": "execute_result"
    }
   ],
   "source": [
    "np.linspace((0,0,0),(10,10,10), 10)"
   ]
  },
  {
   "cell_type": "code",
   "execution_count": 64,
   "metadata": {},
   "outputs": [
    {
     "data": {
      "text/plain": [
       "array([[ 0.        ,  0.        ,  0.        ],\n",
       "       [ 1.11111111,  1.11111111,  1.11111111],\n",
       "       [ 2.22222222,  2.22222222,  2.22222222],\n",
       "       [ 3.33333333,  3.33333333,  3.33333333],\n",
       "       [ 4.44444444,  4.44444444,  4.44444444],\n",
       "       [ 5.55555556,  5.55555556,  5.55555556],\n",
       "       [ 6.66666667,  6.66666667,  6.66666667],\n",
       "       [ 7.77777778,  7.77777778,  7.77777778],\n",
       "       [ 8.88888889,  8.88888889,  8.88888889],\n",
       "       [10.        , 10.        , 10.        ]])"
      ]
     },
     "execution_count": 64,
     "metadata": {},
     "output_type": "execute_result"
    }
   ],
   "source": [
    "dim = np.linspace(0, 10, num = 10)\n",
    "dim.repeat(3).reshape([10,3])"
   ]
  },
  {
   "cell_type": "code",
   "execution_count": 57,
   "metadata": {},
   "outputs": [
    {
     "data": {
      "text/plain": [
       "1.1111111111111112"
      ]
     },
     "execution_count": 57,
     "metadata": {},
     "output_type": "execute_result"
    }
   ],
   "source": []
  },
  {
   "cell_type": "code",
   "execution_count": null,
   "metadata": {},
   "outputs": [],
   "source": []
  }
 ],
 "metadata": {
  "kernelspec": {
   "display_name": "Python 3",
   "language": "python",
   "name": "python3"
  },
  "language_info": {
   "codemirror_mode": {
    "name": "ipython",
    "version": 3
   },
   "file_extension": ".py",
   "mimetype": "text/x-python",
   "name": "python",
   "nbconvert_exporter": "python",
   "pygments_lexer": "ipython3",
   "version": "3.7.3"
  }
 },
 "nbformat": 4,
 "nbformat_minor": 2
}
