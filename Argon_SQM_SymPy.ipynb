{
 "cells": [
  {
   "cell_type": "markdown",
   "metadata": {},
   "source": [
    "This is a brief stub of a notebook showing the use of SymPy in manipulating a more complicated form of the Coulomb interaction kernel for a more complicated semiempirical model than what you are using in your QM project."
   ]
  },
  {
   "cell_type": "code",
   "execution_count": 1,
   "metadata": {},
   "outputs": [],
   "source": [
    "import numpy as np\n",
    "import sympy"
   ]
  },
  {
   "cell_type": "markdown",
   "metadata": {},
   "source": [
    "As is typically the case in quantum chemistry, we will treat the atomi nuclei as classical point charges,\n",
    "\n",
    "$$ \\vec{r}_i = (x_i , y_i, z_i). $$\n",
    "\n",
    "While we would normally read these from a file or pass them in as an argument to a function, we will just specify a set of atomic coordinates in this example:"
   ]
  },
  {
   "cell_type": "code",
   "execution_count": 2,
   "metadata": {},
   "outputs": [
    {
     "name": "stdout",
     "output_type": "stream",
     "text": [
      "['px', 'py', 'pz']\n",
      "2\n",
      "[[0. 0. 0.]\n",
      " [3. 4. 5.]]\n"
     ]
    }
   ],
   "source": [
    "atomic_coordinates = np.array([ [0.0,0.0,0.0], [3.0,4.0,5.0] ])\n",
    "number_of_atoms = len(atomic_coordinates)\n",
    "\n",
    "orbital_types = ['s', 'px' ,'py', 'pz']\n",
    "orbitals_per_atom = len(orbital_types)\n",
    "\n",
    "p_orbitals = orbital_types[1:]\n",
    "print(p_orbitals)\n",
    "\n",
    "np.set_printoptions(precision=1)\n",
    "print(number_of_atoms)\n",
    "print(atomic_coordinates)\n",
    "\n",
    "def atom(ao_index):\n",
    "    '''Returns the atom index part of an atomic orbital index.'''\n",
    "    return ao_index // orbitals_per_atom\n",
    "\n",
    "def orb(ao_index):\n",
    "    '''Returns the orbital type of an atomic orbital index.'''\n",
    "    orb_index = ao_index % orbitals_per_atom\n",
    "    return orbital_types[orb_index]\n",
    "\n",
    "def ao_index(atom_p,orb_p):\n",
    "    '''Returns the atomic orbital index for a given atom index and orbital type.'''\n",
    "    p = atom_p*orbitals_per_atom\n",
    "    p += orbital_types.index(orb_p)\n",
    "    return p"
   ]
  },
  {
   "cell_type": "markdown",
   "metadata": {},
   "source": [
    "The nuclear charge of Argon is 18, but our model combines the nucleus and the 12 neglected electrons ($1s^2$, $2s^2$, $2p^6$, and $3s^2$) as an ionic point charge with $Z = 6$. For the purpose of electrostatics, we will describe the valence electrons of each Argon atom as Gaussian charges and their derivatives, which form a multipole expansion. The width of these Gaussians, $r_0$, is the first parameter of our semiempirical model:"
   ]
  },
  {
   "cell_type": "code",
   "execution_count": 3,
   "metadata": {},
   "outputs": [],
   "source": [
    "ionic_charge = 6.0\n",
    "r0 = 6.5"
   ]
  },
  {
   "cell_type": "markdown",
   "metadata": {},
   "source": [
    "The electron-ion and electron-electron interactions have the same functional form, but the electron-electron interaction has an wider effective width of $\\sqrt{2}r_0$,\n",
    "\n",
    "$$ V^{\\mathrm{II}}(r) = \\frac{Z^2}{r} \\\\\n",
    "   V^{\\mathrm{eI}}(r) = -Z \\frac{\\mathrm{erf}(r/r_0)}{r} \\\\\n",
    "   V^{\\mathrm{ee}}(r) = \\frac{\\mathrm{erf}(r/(\\sqrt{2}r_0))}{r}. $$\n",
    "\n",
    "These functions can be constructed using SymPy, which will allow us to evaluate analytical derivatives automatically:"
   ]
  },
  {
   "cell_type": "code",
   "execution_count": 4,
   "metadata": {},
   "outputs": [
    {
     "name": "stdout",
     "output_type": "stream",
     "text": [
      "erf(r)/r\n",
      "-2*r**2/(3*sqrt(pi)) + 2/sqrt(pi)\n"
     ]
    }
   ],
   "source": [
    "x1, y1, z1, x2, y2, z2, r = sympy.symbols('x1 y1 z1 x2 y2 z2 r')\n",
    "r12 = sympy.sqrt( (x1 - x2)**2 + (y1 - y2)**2 + (z1 - z2)**2 )\n",
    "\n",
    "erf_kernel = sympy.erf(r) / r\n",
    "erf_kernel_close = erf_kernel.series(r,0,3).removeO()\n",
    "\n",
    "v_ii_kernel = ionic_charge**2 / r12\n",
    "v_ei_kernel = -ionic_charge*erf_kernel.subs(r, r12/r0) / r0\n",
    "v_ee_kernel = erf_kernel.subs(r, r12/(np.sqrt(2.0)*r0)) / (np.sqrt(2.0)*r0)\n",
    "\n",
    "v_ei_kernel_close = -ionic_charge*erf_kernel_close.subs(r, r12/r0) / r0\n",
    "v_ee_kernel_close = erf_kernel_close.subs(r, r12/(np.sqrt(2.0)*r0)) / (np.sqrt(2.0)*r0)\n",
    "\n",
    "def eval_kernel(kernel):\n",
    "    '''Returns a NumPy function that efficiently evaluates the SymPy function input.'''\n",
    "    return sympy.lambdify(([x1,y1,z1], [x2,y2,z2]), kernel)\n",
    "\n",
    "print(erf_kernel)\n",
    "print(erf_kernel_close)"
   ]
  },
  {
   "cell_type": "markdown",
   "metadata": {},
   "source": [
    "SymPy is not smart enough to take limits automatically when they are needed, so we need to do this ourselves to avoid numerical singularities. It is then straightforward (but slow) to \"compile\" a function from SymPy to NumPy to evaluate formulas. For example, the ion-ion energy in $\\hat{H}$,\n",
    "\n",
    "$$ E_{\\mathrm{ion}} = \\sum_{i < j} V^{\\mathrm{II}}(|\\vec{r}_i - \\vec{r}_j|) $$\n",
    "\n",
    "can be implemented as:"
   ]
  },
  {
   "cell_type": "code",
   "execution_count": 5,
   "metadata": {},
   "outputs": [
    {
     "name": "stdout",
     "output_type": "stream",
     "text": [
      "5.091168824543142\n"
     ]
    }
   ],
   "source": [
    "def calculate_energy_ion(atomic_coordinates):\n",
    "    '''Returns the ionic contribution to the total energy for an input list of atomic coordinates.'''\n",
    "    energy_ion = 0.0\n",
    "    v_ii = eval_kernel( v_ii_kernel )\n",
    "    for i, r_i in enumerate(atomic_coordinates):\n",
    "        for j, r_j in enumerate(atomic_coordinates):\n",
    "            if i < j:\n",
    "                energy_ion += v_ii(r_i, r_j)\n",
    "    return energy_ion\n",
    "\n",
    "energy_ion = calculate_energy_ion(atomic_coordinates)\n",
    "print(energy_ion)"
   ]
  },
  {
   "cell_type": "markdown",
   "metadata": {},
   "source": [
    "For functions involving electrons, we need to define a differential operator that will generate our multipole expansions,\n",
    "\n",
    "$$ \\Delta_p = \\begin{cases} 1 , & \\mathrm{orb}(p) = s \\\\\n",
    "d/d x_{\\mathrm{atom}(p)} , & \\mathrm{orb}(p) = p_x \\\\\n",
    "d/d y_{\\mathrm{atom}(p)} , & \\mathrm{orb}(p) = p_y \\\\\n",
    "d/d z_{\\mathrm{atom}(p)} , & \\mathrm{orb}(p) = p_z\n",
    "\\end{cases}, $$"
   ]
  },
  {
   "cell_type": "code",
   "execution_count": 6,
   "metadata": {},
   "outputs": [
    {
     "name": "stdout",
     "output_type": "stream",
     "text": [
      "function:\n",
      " 1.0*erf(0.108785658644084*sqrt((x1 - x2)**2 + (y1 - y2)**2 + (z1 - z2)**2))/sqrt((x1 - x2)**2 + (y1 - y2)**2 + (z1 - z2)**2)\n",
      "x1 derivative:\n",
      " 1.0*(-x1 + x2)*erf(0.108785658644084*sqrt((x1 - x2)**2 + (y1 - y2)**2 + (z1 - z2)**2))/((x1 - x2)**2 + (y1 - y2)**2 + (z1 - z2)**2)**(3/2) + 0.217571317288168*(x1 - x2)*exp(-0.0118343195266272*(x1 - x2)**2 - 0.0118343195266272*(y1 - y2)**2 - 0.0118343195266272*(z1 - z2)**2)/(sqrt(pi)*((x1 - x2)**2 + (y1 - y2)**2 + (z1 - z2)**2))\n",
      "x1 & x2 derivatives:\n",
      " 0.217571317288168*(-x1 + x2)**2*exp(-0.0118343195266272*(x1 - x2)**2 - 0.0118343195266272*(y1 - y2)**2 - 0.0118343195266272*(z1 - z2)**2)/(sqrt(pi)*((x1 - x2)**2 + (y1 - y2)**2 + (z1 - z2)**2)**2) + 1.0*(-x1 + x2)*(3*x1 - 3*x2)*erf(0.108785658644084*sqrt((x1 - x2)**2 + (y1 - y2)**2 + (z1 - z2)**2))/((x1 - x2)**2 + (y1 - y2)**2 + (z1 - z2)**2)**(5/2) + 0.217571317288168*(0.0236686390532544*x1 - 0.0236686390532544*x2)*(x1 - x2)*exp(-0.0118343195266272*(x1 - x2)**2 - 0.0118343195266272*(y1 - y2)**2 - 0.0118343195266272*(z1 - z2)**2)/(sqrt(pi)*((x1 - x2)**2 + (y1 - y2)**2 + (z1 - z2)**2)) + 0.217571317288168*(x1 - x2)*(2*x1 - 2*x2)*exp(-0.0118343195266272*(x1 - x2)**2 - 0.0118343195266272*(y1 - y2)**2 - 0.0118343195266272*(z1 - z2)**2)/(sqrt(pi)*((x1 - x2)**2 + (y1 - y2)**2 + (z1 - z2)**2)**2) - 0.217571317288168*exp(-0.0118343195266272*(x1 - x2)**2 - 0.0118343195266272*(y1 - y2)**2 - 0.0118343195266272*(z1 - z2)**2)/(sqrt(pi)*((x1 - x2)**2 + (y1 - y2)**2 + (z1 - z2)**2)) + 1.0*erf(0.108785658644084*sqrt((x1 - x2)**2 + (y1 - y2)**2 + (z1 - z2)**2))/((x1 - x2)**2 + (y1 - y2)**2 + (z1 - z2)**2)**(3/2)\n"
     ]
    }
   ],
   "source": [
    "def grad1(kernel,orb1):\n",
    "    '''Returns the input interaction kernel with a multipole generator in the 1st coordinate applied to it.'''\n",
    "    if orb1 == 's':\n",
    "        return kernel\n",
    "    if orb1 == 'px':\n",
    "        return sympy.diff(kernel, x1)\n",
    "    if orb1 == 'py':\n",
    "        return sympy.diff(kernel, y1)\n",
    "    if orb1 == 'pz':\n",
    "        return sympy.diff(kernel, z1)\n",
    "\n",
    "def grad2(kernel,orb2):\n",
    "    '''Returns the input interaction kernel with a multipole generator in the 2nd coordinate applied to it.'''\n",
    "    if orb2 == 's':\n",
    "        return kernel\n",
    "    if orb2 == 'px':\n",
    "        return sympy.diff(kernel, x2)\n",
    "    if orb2 == 'py':\n",
    "        return sympy.diff(kernel, y2)\n",
    "    if orb2 == 'pz':\n",
    "        return sympy.diff(kernel, z2)\n",
    "\n",
    "print(\"function:\\n\", v_ee_kernel)\n",
    "print(\"x1 derivative:\\n\", grad1(v_ee_kernel,'px'))\n",
    "print(\"x1 & x2 derivatives:\\n\", grad2(grad1(v_ee_kernel,'px'),'px'))"
   ]
  },
  {
   "cell_type": "markdown",
   "metadata": {},
   "source": [
    "both for the vector of electron-ion potential matrix elements,\n",
    "\n",
    "$$ V^{\\mathrm{eI}}_p = \\sum_{i} \\Delta_p V^{\\mathrm{eI}}(|\\vec{r}_{\\mathrm{atom}(p)} - \\vec{r}_i|) , $$"
   ]
  },
  {
   "cell_type": "code",
   "execution_count": 7,
   "metadata": {},
   "outputs": [
    {
     "name": "stdout",
     "output_type": "stream",
     "text": [
      "[-1.8 -0.  -0.  -0.  -1.8  0.   0.   0. ]\n"
     ]
    }
   ],
   "source": [
    "def calculate_potential_vector(atomic_coordinates):\n",
    "    '''Returns the electron-ion potential energy vector for an input list of atomic coordinates.'''\n",
    "    ndof = len(atomic_coordinates)*orbitals_per_atom\n",
    "    potential_vector = np.zeros(ndof)\n",
    "    for orb_p in orbital_types:\n",
    "        v_ei = eval_kernel( grad1(v_ei_kernel, orb_p) )\n",
    "        v_ei_close = eval_kernel( grad1(v_ei_kernel_close, orb_p) )\n",
    "        for atom_p,r_p in enumerate(atomic_coordinates):\n",
    "            p = ao_index(atom_p, orb_p)\n",
    "            for atom_i,r_i in enumerate(atomic_coordinates):\n",
    "                if atom_i != atom_p:\n",
    "                    potential_vector[p] += v_ei(r_p, r_i)\n",
    "                else:\n",
    "                    potential_vector[p] += v_ei_close(r_p,r_i)\n",
    "    return potential_vector\n",
    "\n",
    "potential_vector = calculate_potential_vector(atomic_coordinates)\n",
    "print(potential_vector)"
   ]
  },
  {
   "cell_type": "markdown",
   "metadata": {},
   "source": [
    "and the matrix of electron-electron interaction matrix elements,\n",
    "\n",
    "$$ V^{\\mathrm{ee}}_{p,q} = \\Delta_p \\Delta_q V^{\\mathrm{ee}}(|\\vec{r}_{\\mathrm{atom}(p)} - \\vec{r}_{\\mathrm{atom}(q)}|) . $$"
   ]
  },
  {
   "cell_type": "code",
   "execution_count": 8,
   "metadata": {},
   "outputs": [
    {
     "name": "stdout",
     "output_type": "stream",
     "text": [
      "[[ 1.2e-01 -0.0e+00 -0.0e+00 -0.0e+00  1.0e-01 -2.1e-03 -2.7e-03 -3.4e-03]\n",
      " [-0.0e+00  9.7e-04  0.0e+00  0.0e+00  2.1e-03  6.1e-04 -1.1e-04 -1.4e-04]\n",
      " [-0.0e+00  0.0e+00  9.7e-04  0.0e+00  2.7e-03 -1.1e-04  5.4e-04 -1.8e-04]\n",
      " [-0.0e+00  0.0e+00  0.0e+00  9.7e-04  3.4e-03 -1.4e-04 -1.8e-04  4.6e-04]\n",
      " [ 1.0e-01  2.1e-03  2.7e-03  3.4e-03  1.2e-01 -0.0e+00 -0.0e+00 -0.0e+00]\n",
      " [-2.1e-03  6.1e-04 -1.1e-04 -1.4e-04 -0.0e+00  9.7e-04  0.0e+00  0.0e+00]\n",
      " [-2.7e-03 -1.1e-04  5.4e-04 -1.8e-04 -0.0e+00  0.0e+00  9.7e-04  0.0e+00]\n",
      " [-3.4e-03 -1.4e-04 -1.8e-04  4.6e-04 -0.0e+00  0.0e+00  0.0e+00  9.7e-04]]\n"
     ]
    }
   ],
   "source": [
    "def calculate_interaction_matrix(atomic_coordinates):\n",
    "    '''Returns the electron-electron interaction energy matrix for an input list of atomic coordinates.'''\n",
    "    ndof = len(atomic_coordinates)*orbitals_per_atom\n",
    "    interaction_matrix = np.zeros( (ndof,ndof) )\n",
    "    for orb_p in orbital_types:\n",
    "        for orb_q in orbital_types:\n",
    "            v_ee = eval_kernel( grad2(grad1(v_ee_kernel, orb_p), orb_q) )\n",
    "            v_ee_close = eval_kernel( grad2(grad1(v_ee_kernel_close, orb_p), orb_q) )\n",
    "            for atom_p,r_p in enumerate(atomic_coordinates):\n",
    "                p = ao_index(atom_p, orb_p)\n",
    "                for atom_q,r_q in enumerate(atomic_coordinates):\n",
    "                    q = ao_index(atom_q, orb_q)\n",
    "                    if atom_p != atom_q:\n",
    "                        interaction_matrix[p,q] = v_ee(r_p, r_q)\n",
    "                    else:\n",
    "                        interaction_matrix[p,q] = v_ee_close(r_p, r_q)\n",
    "    return interaction_matrix\n",
    "\n",
    "interaction_matrix = calculate_interaction_matrix(atomic_coordinates)\n",
    "print(interaction_matrix)"
   ]
  },
  {
   "cell_type": "code",
   "execution_count": null,
   "metadata": {},
   "outputs": [],
   "source": []
  }
 ],
 "metadata": {
  "kernelspec": {
   "display_name": "Python 3",
   "language": "python",
   "name": "python3"
  },
  "language_info": {
   "codemirror_mode": {
    "name": "ipython",
    "version": 3
   },
   "file_extension": ".py",
   "mimetype": "text/x-python",
   "name": "python",
   "nbconvert_exporter": "python",
   "pygments_lexer": "ipython3",
   "version": "3.7.1"
  }
 },
 "nbformat": 4,
 "nbformat_minor": 2
}
